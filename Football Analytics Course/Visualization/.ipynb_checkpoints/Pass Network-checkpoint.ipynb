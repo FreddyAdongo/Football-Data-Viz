{
 "cells": [
  {
   "cell_type": "code",
   "execution_count": 1,
   "id": "8faeca1a",
   "metadata": {},
   "outputs": [],
   "source": [
    "import math\n",
    "import pandas as pd\n",
    "\n",
    "from statsbombpy import sb\n",
    "from mplsoccer import VerticalPitch"
   ]
  },
  {
   "cell_type": "code",
   "execution_count": 69,
   "id": "54bd3241",
   "metadata": {},
   "outputs": [],
   "source": [
    "df = sb.events(match_id=3920396)"
   ]
  },
  {
   "cell_type": "code",
   "execution_count": 70,
   "id": "19e5b6f5",
   "metadata": {},
   "outputs": [
    {
     "data": {
      "text/html": [
       "<div>\n",
       "<style scoped>\n",
       "    .dataframe tbody tr th:only-of-type {\n",
       "        vertical-align: middle;\n",
       "    }\n",
       "\n",
       "    .dataframe tbody tr th {\n",
       "        vertical-align: top;\n",
       "    }\n",
       "\n",
       "    .dataframe thead th {\n",
       "        text-align: right;\n",
       "    }\n",
       "</style>\n",
       "<table border=\"1\" class=\"dataframe\">\n",
       "  <thead>\n",
       "    <tr style=\"text-align: right;\">\n",
       "      <th></th>\n",
       "      <th>minute</th>\n",
       "      <th>second</th>\n",
       "    </tr>\n",
       "  </thead>\n",
       "  <tbody>\n",
       "    <tr>\n",
       "      <th>0</th>\n",
       "      <td>0</td>\n",
       "      <td>0</td>\n",
       "    </tr>\n",
       "    <tr>\n",
       "      <th>1</th>\n",
       "      <td>0</td>\n",
       "      <td>0</td>\n",
       "    </tr>\n",
       "    <tr>\n",
       "      <th>2</th>\n",
       "      <td>0</td>\n",
       "      <td>0</td>\n",
       "    </tr>\n",
       "    <tr>\n",
       "      <th>3</th>\n",
       "      <td>0</td>\n",
       "      <td>0</td>\n",
       "    </tr>\n",
       "    <tr>\n",
       "      <th>4</th>\n",
       "      <td>45</td>\n",
       "      <td>0</td>\n",
       "    </tr>\n",
       "    <tr>\n",
       "      <th>...</th>\n",
       "      <td>...</td>\n",
       "      <td>...</td>\n",
       "    </tr>\n",
       "    <tr>\n",
       "      <th>3116</th>\n",
       "      <td>82</td>\n",
       "      <td>20</td>\n",
       "    </tr>\n",
       "    <tr>\n",
       "      <th>3117</th>\n",
       "      <td>82</td>\n",
       "      <td>22</td>\n",
       "    </tr>\n",
       "    <tr>\n",
       "      <th>3118</th>\n",
       "      <td>86</td>\n",
       "      <td>40</td>\n",
       "    </tr>\n",
       "    <tr>\n",
       "      <th>3119</th>\n",
       "      <td>86</td>\n",
       "      <td>40</td>\n",
       "    </tr>\n",
       "    <tr>\n",
       "      <th>3120</th>\n",
       "      <td>82</td>\n",
       "      <td>42</td>\n",
       "    </tr>\n",
       "  </tbody>\n",
       "</table>\n",
       "<p>3121 rows × 2 columns</p>\n",
       "</div>"
      ],
      "text/plain": [
       "      minute  second\n",
       "0          0       0\n",
       "1          0       0\n",
       "2          0       0\n",
       "3          0       0\n",
       "4         45       0\n",
       "...      ...     ...\n",
       "3116      82      20\n",
       "3117      82      22\n",
       "3118      86      40\n",
       "3119      86      40\n",
       "3120      82      42\n",
       "\n",
       "[3121 rows x 2 columns]"
      ]
     },
     "execution_count": 70,
     "metadata": {},
     "output_type": "execute_result"
    }
   ],
   "source": [
    "df[['minute', 'second']]"
   ]
  },
  {
   "cell_type": "code",
   "execution_count": 71,
   "id": "82f0ce72",
   "metadata": {},
   "outputs": [],
   "source": [
    "df[['x', 'y']] = df['location'].apply(pd.Series)\n",
    "df = df[df['team'] == 'Ghana']"
   ]
  },
  {
   "cell_type": "code",
   "execution_count": 72,
   "id": "063eceaf",
   "metadata": {},
   "outputs": [],
   "source": [
    "tactics = df[~df['tactics'].isnull()][['tactics', 'team']]\n",
    "\n",
    "all_jersey_numbers = []\n",
    "for y in tactics.to_dict(orient='records'):\n",
    "    all_jersey_numbers.append(pd.DataFrame([{'player_id': x['player']['id'], 'jersey_number': x['jersey_number']} for x in y['tactics']['lineup']]))\n",
    "    \n",
    "jersey_numbers = pd.concat(all_jersey_numbers).drop_duplicates()"
   ]
  },
  {
   "cell_type": "code",
   "execution_count": 73,
   "id": "a2d2fb30",
   "metadata": {},
   "outputs": [],
   "source": [
    "df['new_second'] = 60 * df['minute'] + df['second']"
   ]
  },
  {
   "cell_type": "code",
   "execution_count": 74,
   "id": "2b6b6052",
   "metadata": {},
   "outputs": [],
   "source": [
    "df = df.sort_values(by=['new_second'])"
   ]
  },
  {
   "cell_type": "code",
   "execution_count": 75,
   "id": "0b99cee3",
   "metadata": {},
   "outputs": [
    {
     "data": {
      "text/plain": [
       "1          0\n",
       "3          0\n",
       "2325       3\n",
       "12        17\n",
       "1640      18\n",
       "        ... \n",
       "2914    5761\n",
       "839     5809\n",
       "2931    5810\n",
       "1634    5810\n",
       "3108    5827\n",
       "Name: new_second, Length: 1398, dtype: int64"
      ]
     },
     "execution_count": 75,
     "metadata": {},
     "output_type": "execute_result"
    }
   ],
   "source": [
    "df['new_second']"
   ]
  },
  {
   "cell_type": "code",
   "execution_count": 76,
   "id": "516ae80b",
   "metadata": {},
   "outputs": [],
   "source": [
    "df['passer'] = df['player_id']\n",
    "df['recipient'] = df['passer'].shift(-1)"
   ]
  },
  {
   "cell_type": "code",
   "execution_count": 77,
   "id": "a872c390",
   "metadata": {},
   "outputs": [],
   "source": [
    "passes_df = df[df['type'] == 'Pass']"
   ]
  },
  {
   "cell_type": "code",
   "execution_count": 78,
   "id": "56e9e7c6",
   "metadata": {},
   "outputs": [
    {
     "data": {
      "text/plain": [
       "12     Pass\n",
       "13     Pass\n",
       "15     Pass\n",
       "16     Pass\n",
       "17     Pass\n",
       "       ... \n",
       "817    Pass\n",
       "818    Pass\n",
       "819    Pass\n",
       "838    Pass\n",
       "839    Pass\n",
       "Name: type, Length: 355, dtype: object"
      ]
     },
     "execution_count": 78,
     "metadata": {},
     "output_type": "execute_result"
    }
   ],
   "source": [
    "passes_df['type']"
   ]
  },
  {
   "cell_type": "code",
   "execution_count": 79,
   "id": "4cf53180",
   "metadata": {},
   "outputs": [
    {
     "data": {
      "text/plain": [
       "12            NaN\n",
       "13            Out\n",
       "15            NaN\n",
       "16            NaN\n",
       "17            NaN\n",
       "          ...    \n",
       "817           NaN\n",
       "818           NaN\n",
       "819    Incomplete\n",
       "838           NaN\n",
       "839           NaN\n",
       "Name: pass_outcome, Length: 355, dtype: object"
      ]
     },
     "execution_count": 79,
     "metadata": {},
     "output_type": "execute_result"
    }
   ],
   "source": [
    "passes_df['pass_outcome']"
   ]
  },
  {
   "cell_type": "code",
   "execution_count": 80,
   "id": "3f62bbba",
   "metadata": {},
   "outputs": [
    {
     "name": "stderr",
     "output_type": "stream",
     "text": [
      "C:\\Users\\fredd\\AppData\\Local\\Temp\\ipykernel_25444\\2139458530.py:2: SettingWithCopyWarning: \n",
      "A value is trying to be set on a copy of a slice from a DataFrame.\n",
      "Try using .loc[row_indexer,col_indexer] = value instead\n",
      "\n",
      "See the caveats in the documentation: https://pandas.pydata.org/pandas-docs/stable/user_guide/indexing.html#returning-a-view-versus-a-copy\n",
      "  passes_df['pass_outcome'] = passes_df['pass_outcome'].fillna('Successful')\n"
     ]
    }
   ],
   "source": [
    "#fill NaN rows with \"Successful\"\n",
    "passes_df['pass_outcome'] = passes_df['pass_outcome'].fillna('Successful') "
   ]
  },
  {
   "cell_type": "code",
   "execution_count": 81,
   "id": "0e3bf2e0",
   "metadata": {},
   "outputs": [],
   "source": [
    "completions = passes_df[passes_df['pass_outcome'] == 'Successful']"
   ]
  },
  {
   "cell_type": "code",
   "execution_count": 82,
   "id": "10a10ac6",
   "metadata": {},
   "outputs": [],
   "source": [
    "sub_df = df[df['type'] == 'Substitution']\n",
    "first_sub = sub_df['new_second'].min()"
   ]
  },
  {
   "cell_type": "code",
   "execution_count": 83,
   "id": "0e5e2641",
   "metadata": {},
   "outputs": [
    {
     "data": {
      "text/plain": [
       "3703"
      ]
     },
     "execution_count": 83,
     "metadata": {},
     "output_type": "execute_result"
    }
   ],
   "source": [
    "first_sub"
   ]
  },
  {
   "cell_type": "code",
   "execution_count": 84,
   "id": "30c4d65e",
   "metadata": {},
   "outputs": [],
   "source": [
    "if first_sub <= (60 * 45):\n",
    "    first_sub = 60 * 45"
   ]
  },
  {
   "cell_type": "code",
   "execution_count": 85,
   "id": "51561556",
   "metadata": {},
   "outputs": [],
   "source": [
    "completions = completions[completions['new_second'] < first_sub]"
   ]
  },
  {
   "cell_type": "code",
   "execution_count": 86,
   "id": "42b62224",
   "metadata": {},
   "outputs": [
    {
     "data": {
      "text/plain": [
       "(197, 93)"
      ]
     },
     "execution_count": 86,
     "metadata": {},
     "output_type": "execute_result"
    }
   ],
   "source": [
    "completions.shape #(rows, columns)"
   ]
  },
  {
   "cell_type": "code",
   "execution_count": 87,
   "id": "d97b2bf8",
   "metadata": {},
   "outputs": [],
   "source": [
    "#find average locations\n",
    "average_locs_and_count = completions.groupby('passer').agg({'x': ['mean'], 'y': ['mean','count']})"
   ]
  },
  {
   "cell_type": "code",
   "execution_count": 88,
   "id": "bde99a13",
   "metadata": {},
   "outputs": [],
   "source": [
    "average_locs_and_count.columns = ['x', 'y', 'count']"
   ]
  },
  {
   "cell_type": "code",
   "execution_count": 89,
   "id": "476fad03",
   "metadata": {},
   "outputs": [
    {
     "data": {
      "text/html": [
       "<div>\n",
       "<style scoped>\n",
       "    .dataframe tbody tr th:only-of-type {\n",
       "        vertical-align: middle;\n",
       "    }\n",
       "\n",
       "    .dataframe tbody tr th {\n",
       "        vertical-align: top;\n",
       "    }\n",
       "\n",
       "    .dataframe thead th {\n",
       "        text-align: right;\n",
       "    }\n",
       "</style>\n",
       "<table border=\"1\" class=\"dataframe\">\n",
       "  <thead>\n",
       "    <tr style=\"text-align: right;\">\n",
       "      <th></th>\n",
       "      <th>x</th>\n",
       "      <th>y</th>\n",
       "      <th>count</th>\n",
       "    </tr>\n",
       "    <tr>\n",
       "      <th>passer</th>\n",
       "      <th></th>\n",
       "      <th></th>\n",
       "      <th></th>\n",
       "    </tr>\n",
       "  </thead>\n",
       "  <tbody>\n",
       "    <tr>\n",
       "      <th>2989.0</th>\n",
       "      <td>38.700000</td>\n",
       "      <td>54.326316</td>\n",
       "      <td>19</td>\n",
       "    </tr>\n",
       "    <tr>\n",
       "      <th>3450.0</th>\n",
       "      <td>69.435294</td>\n",
       "      <td>18.300000</td>\n",
       "      <td>17</td>\n",
       "    </tr>\n",
       "    <tr>\n",
       "      <th>6393.0</th>\n",
       "      <td>72.950000</td>\n",
       "      <td>70.780000</td>\n",
       "      <td>10</td>\n",
       "    </tr>\n",
       "    <tr>\n",
       "      <th>9286.0</th>\n",
       "      <td>77.066667</td>\n",
       "      <td>26.450000</td>\n",
       "      <td>12</td>\n",
       "    </tr>\n",
       "    <tr>\n",
       "      <th>12259.0</th>\n",
       "      <td>54.610526</td>\n",
       "      <td>70.805263</td>\n",
       "      <td>19</td>\n",
       "    </tr>\n",
       "  </tbody>\n",
       "</table>\n",
       "</div>"
      ],
      "text/plain": [
       "                 x          y  count\n",
       "passer                              \n",
       "2989.0   38.700000  54.326316     19\n",
       "3450.0   69.435294  18.300000     17\n",
       "6393.0   72.950000  70.780000     10\n",
       "9286.0   77.066667  26.450000     12\n",
       "12259.0  54.610526  70.805263     19"
      ]
     },
     "execution_count": 89,
     "metadata": {},
     "output_type": "execute_result"
    }
   ],
   "source": [
    "average_locs_and_count.head()"
   ]
  },
  {
   "cell_type": "code",
   "execution_count": 90,
   "id": "39fe701d",
   "metadata": {},
   "outputs": [],
   "source": [
    "passes_between = completions.groupby(['passer', 'recipient']).id.count().reset_index()"
   ]
  },
  {
   "cell_type": "code",
   "execution_count": 91,
   "id": "4e716a81",
   "metadata": {},
   "outputs": [],
   "source": [
    "passes_between.rename({'id': 'pass_count'}, axis='columns', inplace=True)"
   ]
  },
  {
   "cell_type": "code",
   "execution_count": 92,
   "id": "ddfb389e",
   "metadata": {},
   "outputs": [],
   "source": [
    "passes_between = passes_between.merge(average_locs_and_count, left_on='passer', right_index=True)\n",
    "passes_between = passes_between.merge(average_locs_and_count, left_on='recipient', right_index=True, suffixes=['', '_end'])"
   ]
  },
  {
   "cell_type": "code",
   "execution_count": 93,
   "id": "fb20a6f5",
   "metadata": {},
   "outputs": [
    {
     "data": {
      "text/html": [
       "<div>\n",
       "<style scoped>\n",
       "    .dataframe tbody tr th:only-of-type {\n",
       "        vertical-align: middle;\n",
       "    }\n",
       "\n",
       "    .dataframe tbody tr th {\n",
       "        vertical-align: top;\n",
       "    }\n",
       "\n",
       "    .dataframe thead th {\n",
       "        text-align: right;\n",
       "    }\n",
       "</style>\n",
       "<table border=\"1\" class=\"dataframe\">\n",
       "  <thead>\n",
       "    <tr style=\"text-align: right;\">\n",
       "      <th></th>\n",
       "      <th>passer</th>\n",
       "      <th>recipient</th>\n",
       "      <th>pass_count</th>\n",
       "      <th>x</th>\n",
       "      <th>y</th>\n",
       "      <th>count</th>\n",
       "      <th>x_end</th>\n",
       "      <th>y_end</th>\n",
       "      <th>count_end</th>\n",
       "    </tr>\n",
       "  </thead>\n",
       "  <tbody>\n",
       "    <tr>\n",
       "      <th>0</th>\n",
       "      <td>2989.0</td>\n",
       "      <td>2989.0</td>\n",
       "      <td>1</td>\n",
       "      <td>38.700000</td>\n",
       "      <td>54.326316</td>\n",
       "      <td>19</td>\n",
       "      <td>38.700000</td>\n",
       "      <td>54.326316</td>\n",
       "      <td>19</td>\n",
       "    </tr>\n",
       "    <tr>\n",
       "      <th>26</th>\n",
       "      <td>12259.0</td>\n",
       "      <td>2989.0</td>\n",
       "      <td>5</td>\n",
       "      <td>54.610526</td>\n",
       "      <td>70.805263</td>\n",
       "      <td>19</td>\n",
       "      <td>38.700000</td>\n",
       "      <td>54.326316</td>\n",
       "      <td>19</td>\n",
       "    </tr>\n",
       "    <tr>\n",
       "      <th>48</th>\n",
       "      <td>30519.0</td>\n",
       "      <td>2989.0</td>\n",
       "      <td>4</td>\n",
       "      <td>39.562500</td>\n",
       "      <td>25.879167</td>\n",
       "      <td>24</td>\n",
       "      <td>38.700000</td>\n",
       "      <td>54.326316</td>\n",
       "      <td>19</td>\n",
       "    </tr>\n",
       "    <tr>\n",
       "      <th>55</th>\n",
       "      <td>30693.0</td>\n",
       "      <td>2989.0</td>\n",
       "      <td>2</td>\n",
       "      <td>59.675000</td>\n",
       "      <td>41.510000</td>\n",
       "      <td>20</td>\n",
       "      <td>38.700000</td>\n",
       "      <td>54.326316</td>\n",
       "      <td>19</td>\n",
       "    </tr>\n",
       "    <tr>\n",
       "      <th>64</th>\n",
       "      <td>31029.0</td>\n",
       "      <td>2989.0</td>\n",
       "      <td>5</td>\n",
       "      <td>56.676923</td>\n",
       "      <td>40.115385</td>\n",
       "      <td>26</td>\n",
       "      <td>38.700000</td>\n",
       "      <td>54.326316</td>\n",
       "      <td>19</td>\n",
       "    </tr>\n",
       "    <tr>\n",
       "      <th>...</th>\n",
       "      <td>...</td>\n",
       "      <td>...</td>\n",
       "      <td>...</td>\n",
       "      <td>...</td>\n",
       "      <td>...</td>\n",
       "      <td>...</td>\n",
       "      <td>...</td>\n",
       "      <td>...</td>\n",
       "      <td>...</td>\n",
       "    </tr>\n",
       "    <tr>\n",
       "      <th>30</th>\n",
       "      <td>12259.0</td>\n",
       "      <td>23615.0</td>\n",
       "      <td>1</td>\n",
       "      <td>54.610526</td>\n",
       "      <td>70.805263</td>\n",
       "      <td>19</td>\n",
       "      <td>57.953571</td>\n",
       "      <td>7.225000</td>\n",
       "      <td>28</td>\n",
       "    </tr>\n",
       "    <tr>\n",
       "      <th>38</th>\n",
       "      <td>17033.0</td>\n",
       "      <td>23615.0</td>\n",
       "      <td>3</td>\n",
       "      <td>69.053846</td>\n",
       "      <td>38.484615</td>\n",
       "      <td>13</td>\n",
       "      <td>57.953571</td>\n",
       "      <td>7.225000</td>\n",
       "      <td>28</td>\n",
       "    </tr>\n",
       "    <tr>\n",
       "      <th>44</th>\n",
       "      <td>23615.0</td>\n",
       "      <td>23615.0</td>\n",
       "      <td>2</td>\n",
       "      <td>57.953571</td>\n",
       "      <td>7.225000</td>\n",
       "      <td>28</td>\n",
       "      <td>57.953571</td>\n",
       "      <td>7.225000</td>\n",
       "      <td>28</td>\n",
       "    </tr>\n",
       "    <tr>\n",
       "      <th>51</th>\n",
       "      <td>30519.0</td>\n",
       "      <td>23615.0</td>\n",
       "      <td>8</td>\n",
       "      <td>39.562500</td>\n",
       "      <td>25.879167</td>\n",
       "      <td>24</td>\n",
       "      <td>57.953571</td>\n",
       "      <td>7.225000</td>\n",
       "      <td>28</td>\n",
       "    </tr>\n",
       "    <tr>\n",
       "      <th>60</th>\n",
       "      <td>30693.0</td>\n",
       "      <td>23615.0</td>\n",
       "      <td>1</td>\n",
       "      <td>59.675000</td>\n",
       "      <td>41.510000</td>\n",
       "      <td>20</td>\n",
       "      <td>57.953571</td>\n",
       "      <td>7.225000</td>\n",
       "      <td>28</td>\n",
       "    </tr>\n",
       "  </tbody>\n",
       "</table>\n",
       "<p>76 rows × 9 columns</p>\n",
       "</div>"
      ],
      "text/plain": [
       "     passer  recipient  pass_count          x          y  count      x_end  \\\n",
       "0    2989.0     2989.0           1  38.700000  54.326316     19  38.700000   \n",
       "26  12259.0     2989.0           5  54.610526  70.805263     19  38.700000   \n",
       "48  30519.0     2989.0           4  39.562500  25.879167     24  38.700000   \n",
       "55  30693.0     2989.0           2  59.675000  41.510000     20  38.700000   \n",
       "64  31029.0     2989.0           5  56.676923  40.115385     26  38.700000   \n",
       "..      ...        ...         ...        ...        ...    ...        ...   \n",
       "30  12259.0    23615.0           1  54.610526  70.805263     19  57.953571   \n",
       "38  17033.0    23615.0           3  69.053846  38.484615     13  57.953571   \n",
       "44  23615.0    23615.0           2  57.953571   7.225000     28  57.953571   \n",
       "51  30519.0    23615.0           8  39.562500  25.879167     24  57.953571   \n",
       "60  30693.0    23615.0           1  59.675000  41.510000     20  57.953571   \n",
       "\n",
       "        y_end  count_end  \n",
       "0   54.326316         19  \n",
       "26  54.326316         19  \n",
       "48  54.326316         19  \n",
       "55  54.326316         19  \n",
       "64  54.326316         19  \n",
       "..        ...        ...  \n",
       "30   7.225000         28  \n",
       "38   7.225000         28  \n",
       "44   7.225000         28  \n",
       "51   7.225000         28  \n",
       "60   7.225000         28  \n",
       "\n",
       "[76 rows x 9 columns]"
      ]
     },
     "execution_count": 93,
     "metadata": {},
     "output_type": "execute_result"
    }
   ],
   "source": [
    "passes_between"
   ]
  },
  {
   "cell_type": "code",
   "execution_count": 94,
   "id": "924af66d",
   "metadata": {},
   "outputs": [],
   "source": [
    "passes_between = passes_between.loc[(passes_between['pass_count'] >= 4)]"
   ]
  },
  {
   "cell_type": "code",
   "execution_count": 95,
   "id": "1c17bb81",
   "metadata": {},
   "outputs": [],
   "source": [
    "# plot arrows\n",
    "def pass_line_template(ax, x, y, end_x, end_y, line_color):\n",
    "    ax.annotate(\n",
    "        '',\n",
    "        xy=(end_y,  end_x),\n",
    "        xytext=(y, x),\n",
    "        zorder=1,\n",
    "        arrowprops=dict(arrowstyle='-', linewidth=4, color=line_color, alpha=.85)\n",
    "    )\n",
    "    \n",
    "def pass_line_template_shrink(ax, x, y, end_x, end_y, line_color, dist_delta=1.2):\n",
    "    dist = math.hypot(end_x - x, end_y - y)\n",
    "    angle = math.atan2(end_y-y, end_x-x)\n",
    "    upd_x = x + (dist - dist_delta) * math.cos(angle)\n",
    "    upd_y = y + (dist - dist_delta) * math.sin(angle)\n",
    "    pass_line_template(ax, x, y, upd_x, upd_y, line_color=line_color)"
   ]
  },
  {
   "cell_type": "code",
   "execution_count": 98,
   "id": "5439636f",
   "metadata": {},
   "outputs": [
    {
     "data": {
      "image/png": "[encoded data removed]",
      "text/plain": [
       "<Figure size 1200x800 with 1 Axes>"
      ]
     },
     "metadata": {},
     "output_type": "display_data"
    }
   ],
   "source": [
    "pitch = VerticalPitch(pitch_type='statsbomb')\n",
    "fig, ax = pitch.draw(figsize=(12,8))\n",
    "\n",
    "for index, row in passes_between.iterrows():\n",
    "    pass_line_template_shrink(ax, row['x'], row['y'], row['x_end'], row['y_end'], 'black')\n",
    "\n",
    "pitch.scatter(\n",
    "    average_locs_and_count.x, average_locs_and_count.y, s=500,\n",
    "    color='#f0ece2', edgecolors='#010101', linewidth=2, alpha=1, ax=ax, zorder=2\n",
    ")\n",
    "\n",
    "#display kit numbers\n",
    "for index, row in average_locs_and_count.iterrows():\n",
    "    pitch.annotate(\n",
    "        jersey_numbers[jersey_numbers['player_id'] == row.name]['jersey_number'].values[0],\n",
    "        xy=(row.x, row.y),\n",
    "        c='#132743',\n",
    "        va='center',\n",
    "        ha='center',\n",
    "        size=10,\n",
    "        fontweight='bold',\n",
    "        ax=ax\n",
    "    )"
   ]
  },
  {
   "cell_type": "code",
   "execution_count": null,
   "id": "89c4ede3",
   "metadata": {},
   "outputs": [],
   "source": []
  },
  {
   "cell_type": "code",
   "execution_count": null,
   "id": "5894eb18",
   "metadata": {},
   "outputs": [],
   "source": []
  },
  {
   "cell_type": "code",
   "execution_count": null,
   "id": "b0127783",
   "metadata": {},
   "outputs": [],
   "source": []
  },
  {
   "cell_type": "code",
   "execution_count": null,
   "id": "7eda017c",
   "metadata": {},
   "outputs": [],
   "source": []
  },
  {
   "cell_type": "code",
   "execution_count": null,
   "id": "16e9cfa6",
   "metadata": {},
   "outputs": [],
   "source": []
  },
  {
   "cell_type": "code",
   "execution_count": null,
   "id": "6959af6e",
   "metadata": {},
   "outputs": [],
   "source": []
  },
  {
   "cell_type": "code",
   "execution_count": null,
   "id": "e3171ff8",
   "metadata": {},
   "outputs": [],
   "source": []
  }
 ],
 "metadata": {
  "kernelspec": {
   "display_name": "Python 3 (ipykernel)",
   "language": "python",
   "name": "python3"
  },
  "language_info": {
   "codemirror_mode": {
    "name": "ipython",
    "version": 3
   },
   "file_extension": ".py",
   "mimetype": "text/x-python",
   "name": "python",
   "nbconvert_exporter": "python",
   "pygments_lexer": "ipython3",
   "version": "3.11.5"
  }
 },
 "nbformat": 4,
 "nbformat_minor": 5
}
