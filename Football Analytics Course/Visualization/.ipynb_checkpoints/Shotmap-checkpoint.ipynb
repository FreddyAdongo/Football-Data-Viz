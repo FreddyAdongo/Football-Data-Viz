{
 "cells": [
  {
   "cell_type": "code",
   "execution_count": 1,
   "id": "607f2380",
   "metadata": {},
   "outputs": [
    {
     "name": "stderr",
     "output_type": "stream",
     "text": [
      "C:\\Users\\fredd\\anaconda3\\Lib\\site-packages\\statsbombpy\\api_client.py:21: NoAuthWarning: credentials were not supplied. open data access only\n",
      "  warnings.warn(\n"
     ]
    }
   ],
   "source": [
    "import pandas as pd\n",
    "from statsbombpy import sb\n",
    "\n",
    "df = sb.events(match_id=3920396)"
   ]
  },
  {
   "cell_type": "code",
   "execution_count": 2,
   "id": "0ff70c0b",
   "metadata": {},
   "outputs": [
    {
     "data": {
      "text/plain": [
       "Index(['50_50', 'ball_receipt_outcome', 'ball_recovery_recovery_failure',\n",
       "       'block_deflection', 'carry_end_location', 'clearance_aerial_won',\n",
       "       'clearance_body_part', 'clearance_head', 'clearance_left_foot',\n",
       "       'clearance_right_foot', 'counterpress', 'dribble_nutmeg',\n",
       "       'dribble_outcome', 'dribble_overrun', 'duel_outcome', 'duel_type',\n",
       "       'duration', 'foul_committed_card', 'foul_won_defensive',\n",
       "       'goalkeeper_body_part', 'goalkeeper_end_location', 'goalkeeper_outcome',\n",
       "       'goalkeeper_position', 'goalkeeper_shot_saved_off_target',\n",
       "       'goalkeeper_technique', 'goalkeeper_type', 'id', 'index',\n",
       "       'injury_stoppage_in_chain', 'interception_outcome', 'location',\n",
       "       'match_id', 'minute', 'off_camera', 'out', 'pass_aerial_won',\n",
       "       'pass_angle', 'pass_assisted_shot_id', 'pass_body_part', 'pass_cross',\n",
       "       'pass_cut_back', 'pass_deflected', 'pass_end_location',\n",
       "       'pass_goal_assist', 'pass_height', 'pass_inswinging', 'pass_length',\n",
       "       'pass_no_touch', 'pass_outcome', 'pass_outswinging', 'pass_recipient',\n",
       "       'pass_recipient_id', 'pass_shot_assist', 'pass_switch',\n",
       "       'pass_technique', 'pass_through_ball', 'pass_type', 'period',\n",
       "       'play_pattern', 'player', 'player_id', 'position', 'possession',\n",
       "       'possession_team', 'possession_team_id', 'related_events', 'second',\n",
       "       'shot_aerial_won', 'shot_body_part', 'shot_deflected',\n",
       "       'shot_end_location', 'shot_first_time', 'shot_freeze_frame',\n",
       "       'shot_key_pass_id', 'shot_one_on_one', 'shot_outcome',\n",
       "       'shot_saved_off_target', 'shot_statsbomb_xg', 'shot_technique',\n",
       "       'shot_type', 'substitution_outcome', 'substitution_replacement',\n",
       "       'tactics', 'team', 'team_id', 'timestamp', 'type', 'under_pressure'],\n",
       "      dtype='object')"
      ]
     },
     "execution_count": 2,
     "metadata": {},
     "output_type": "execute_result"
    }
   ],
   "source": [
    "df.columns"
   ]
  },
  {
   "cell_type": "code",
   "execution_count": 6,
   "id": "4c41d0cc",
   "metadata": {},
   "outputs": [],
   "source": [
    "df = df[df['type'] == 'Shot']\n",
    "\n",
    "df = df[['team', 'player', 'location', 'shot_outcome', \n",
    "         'shot_statsbomb_xg','shot_type']]"
   ]
  },
  {
   "cell_type": "code",
   "execution_count": 11,
   "id": "cdb3fae6",
   "metadata": {},
   "outputs": [
    {
     "data": {
      "text/html": [
       "<div>\n",
       "<style scoped>\n",
       "    .dataframe tbody tr th:only-of-type {\n",
       "        vertical-align: middle;\n",
       "    }\n",
       "\n",
       "    .dataframe tbody tr th {\n",
       "        vertical-align: top;\n",
       "    }\n",
       "\n",
       "    .dataframe thead th {\n",
       "        text-align: right;\n",
       "    }\n",
       "</style>\n",
       "<table border=\"1\" class=\"dataframe\">\n",
       "  <thead>\n",
       "    <tr style=\"text-align: right;\">\n",
       "      <th></th>\n",
       "      <th>team</th>\n",
       "      <th>player</th>\n",
       "      <th>location</th>\n",
       "      <th>shot_outcome</th>\n",
       "      <th>shot_statsbomb_xg</th>\n",
       "      <th>shot_type</th>\n",
       "      <th>x</th>\n",
       "      <th>y</th>\n",
       "    </tr>\n",
       "  </thead>\n",
       "  <tbody>\n",
       "    <tr>\n",
       "      <th>2915</th>\n",
       "      <td>Ghana</td>\n",
       "      <td>Mohammed Kudus</td>\n",
       "      <td>[91.3, 30.1]</td>\n",
       "      <td>Saved Off Target</td>\n",
       "      <td>0.021753</td>\n",
       "      <td>Open Play</td>\n",
       "      <td>91.3</td>\n",
       "      <td>30.1</td>\n",
       "    </tr>\n",
       "    <tr>\n",
       "      <th>2916</th>\n",
       "      <td>Egypt</td>\n",
       "      <td>Emam Ashour Metwally Abdelghany</td>\n",
       "      <td>[107.0, 23.2]</td>\n",
       "      <td>Saved</td>\n",
       "      <td>0.034904</td>\n",
       "      <td>Open Play</td>\n",
       "      <td>107.0</td>\n",
       "      <td>23.2</td>\n",
       "    </tr>\n",
       "    <tr>\n",
       "      <th>2917</th>\n",
       "      <td>Ghana</td>\n",
       "      <td>Mohammed Kudus</td>\n",
       "      <td>[97.4, 34.4]</td>\n",
       "      <td>Goal</td>\n",
       "      <td>0.053337</td>\n",
       "      <td>Open Play</td>\n",
       "      <td>97.4</td>\n",
       "      <td>34.4</td>\n",
       "    </tr>\n",
       "    <tr>\n",
       "      <th>2918</th>\n",
       "      <td>Ghana</td>\n",
       "      <td>Mohammed Kudus</td>\n",
       "      <td>[101.3, 35.0]</td>\n",
       "      <td>Off T</td>\n",
       "      <td>0.056939</td>\n",
       "      <td>Open Play</td>\n",
       "      <td>101.3</td>\n",
       "      <td>35.0</td>\n",
       "    </tr>\n",
       "    <tr>\n",
       "      <th>2919</th>\n",
       "      <td>Egypt</td>\n",
       "      <td>Omar Marmoush</td>\n",
       "      <td>[104.4, 58.8]</td>\n",
       "      <td>Saved</td>\n",
       "      <td>0.009314</td>\n",
       "      <td>Open Play</td>\n",
       "      <td>104.4</td>\n",
       "      <td>58.8</td>\n",
       "    </tr>\n",
       "  </tbody>\n",
       "</table>\n",
       "</div>"
      ],
      "text/plain": [
       "       team                           player       location      shot_outcome  \\\n",
       "2915  Ghana                   Mohammed Kudus   [91.3, 30.1]  Saved Off Target   \n",
       "2916  Egypt  Emam Ashour Metwally Abdelghany  [107.0, 23.2]             Saved   \n",
       "2917  Ghana                   Mohammed Kudus   [97.4, 34.4]              Goal   \n",
       "2918  Ghana                   Mohammed Kudus  [101.3, 35.0]             Off T   \n",
       "2919  Egypt                    Omar Marmoush  [104.4, 58.8]             Saved   \n",
       "\n",
       "      shot_statsbomb_xg  shot_type      x     y  \n",
       "2915           0.021753  Open Play   91.3  30.1  \n",
       "2916           0.034904  Open Play  107.0  23.2  \n",
       "2917           0.053337  Open Play   97.4  34.4  \n",
       "2918           0.056939  Open Play  101.3  35.0  \n",
       "2919           0.009314  Open Play  104.4  58.8  "
      ]
     },
     "execution_count": 11,
     "metadata": {},
     "output_type": "execute_result"
    }
   ],
   "source": [
    "df.head()"
   ]
  },
  {
   "cell_type": "code",
   "execution_count": 8,
   "id": "302280ca",
   "metadata": {},
   "outputs": [],
   "source": [
    "df = df[df['shot_type'] != 'Penalty'] #remove shot that was a penalty"
   ]
  },
  {
   "cell_type": "code",
   "execution_count": 10,
   "id": "27be86eb",
   "metadata": {},
   "outputs": [],
   "source": [
    "#separate location to x and y\n",
    "df[['x', 'y']] = df['location'].apply(pd.Series)"
   ]
  },
  {
   "cell_type": "code",
   "execution_count": 20,
   "id": "55b5953f",
   "metadata": {},
   "outputs": [
    {
     "data": {
      "text/plain": [
       "Text(60, 74, 'Size represents xG')"
      ]
     },
     "execution_count": 20,
     "metadata": {},
     "output_type": "execute_result"
    },
    {
     "data": {
      "image/png": "[encoded data removed]",
      "text/plain": [
       "<Figure size 640x480 with 1 Axes>"
      ]
     },
     "metadata": {},
     "output_type": "display_data"
    }
   ],
   "source": [
    "from mplsoccer import Pitch\n",
    "\n",
    "pitch = Pitch(pitch_type='statsbomb')\n",
    "fig, ax = pitch.draw()\n",
    "\n",
    "for x in df.to_dict(orient='records'):\n",
    "    if x['team'] == 'Egypt':\n",
    "        pitch.scatter(x=120-x['x'], y=80-x['y'], ax=ax, s=500*x['shot_statsbomb_xg'],ec='black', c='green' if x['shot_outcome'] == 'Goal' else 'white')\n",
    "    else:\n",
    "         pitch.scatter(x=x['x'], y=x['y'], ax=ax, s=500*x['shot_statsbomb_xg'], ec='black', c='green' if x['shot_outcome'] == 'Goal' else 'white')\n",
    "            \n",
    "ax.set_title('Egypt vs Ghana | AFCON 2023 Group Stage', fontsize=18)\n",
    "ax.text(30, 86, 'Egypt', ha='center', fontsize=16)\n",
    "ax.text(90, 86, 'Ghana', ha='center', fontsize=16)\n",
    "\n",
    "# Lets also add a legend for the size of the shots in the bottom middle of the pitch\n",
    "pitch.scatter(55, 77.5, s=500*.05, ec='black', c='white', ax=ax)\n",
    "pitch.scatter(59.5, 77.5, s=500*.15, ec='black', c='white', ax=ax)\n",
    "pitch.scatter(65, 77.5, s=500*.3, ec='black', c='white', ax=ax)\n",
    "\n",
    "# We can add a label for the legend\n",
    "ax.text(60, 74, 'Size represents xG', ha='center', fontsize=8, fontfamily='monospace')"
   ]
  },
  {
   "cell_type": "code",
   "execution_count": null,
   "id": "50b9448b",
   "metadata": {},
   "outputs": [],
   "source": []
  },
  {
   "cell_type": "code",
   "execution_count": null,
   "id": "a2574ddd",
   "metadata": {},
   "outputs": [],
   "source": []
  },
  {
   "cell_type": "code",
   "execution_count": null,
   "id": "b7dfb997",
   "metadata": {},
   "outputs": [],
   "source": []
  },
  {
   "cell_type": "code",
   "execution_count": null,
   "id": "c1576656",
   "metadata": {},
   "outputs": [],
   "source": []
  },
  {
   "cell_type": "code",
   "execution_count": null,
   "id": "46227a31",
   "metadata": {},
   "outputs": [],
   "source": []
  },
  {
   "cell_type": "code",
   "execution_count": null,
   "id": "e7a6f910",
   "metadata": {},
   "outputs": [],
   "source": []
  },
  {
   "cell_type": "code",
   "execution_count": null,
   "id": "e02e4a0b",
   "metadata": {},
   "outputs": [],
   "source": []
  },
  {
   "cell_type": "code",
   "execution_count": null,
   "id": "9d8b6ac5",
   "metadata": {},
   "outputs": [],
   "source": [
    "\n"
   ]
  }
 ],
 "metadata": {
  "kernelspec": {
   "display_name": "Python 3 (ipykernel)",
   "language": "python",
   "name": "python3"
  },
  "language_info": {
   "codemirror_mode": {
    "name": "ipython",
    "version": 3
   },
   "file_extension": ".py",
   "mimetype": "text/x-python",
   "name": "python",
   "nbconvert_exporter": "python",
   "pygments_lexer": "ipython3",
   "version": "3.11.5"
  }
 },
 "nbformat": 4,
 "nbformat_minor": 5
}
