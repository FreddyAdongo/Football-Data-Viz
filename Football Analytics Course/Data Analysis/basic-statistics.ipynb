{
 "cells": [
  {
   "cell_type": "code",
   "execution_count": 1,
   "id": "9563999c",
   "metadata": {},
   "outputs": [],
   "source": [
    "import pandas as pd\n",
    "import numpy as np\n",
    "import matplotlib.pyplot as plt\n",
    "import seaborn as sns\n",
    "import scipy.stats as stats"
   ]
  },
  {
   "cell_type": "code",
   "execution_count": 3,
   "id": "7ac2f629",
   "metadata": {},
   "outputs": [],
   "source": [
    "df = pd.read_csv('C:/Users/fredd/Data Visualization/football-analytics/Football Analytics Course/Data Analysis/big5-clean.csv')"
   ]
  },
  {
   "cell_type": "code",
   "execution_count": 4,
   "id": "6880c32e",
   "metadata": {},
   "outputs": [
    {
     "data": {
      "text/plain": [
       "Index(['Rk', 'Player', 'Nation', 'Pos', 'Squad', 'Comp', 'Age', 'Born', 'MP',\n",
       "       'Starts', 'Min', '90s', 'Gls', 'Ast', 'G+A', 'G-PK', 'PK', 'PKatt',\n",
       "       'CrdY', 'CrdR', 'xG', 'npxG', 'xAG', 'npxG+xAG', 'PrgC', 'PrgP',\n",
       "       'PrgR'],\n",
       "      dtype='object')"
      ]
     },
     "execution_count": 4,
     "metadata": {},
     "output_type": "execute_result"
    }
   ],
   "source": [
    "df.columns"
   ]
  },
  {
   "cell_type": "code",
   "execution_count": 5,
   "id": "a7353c50",
   "metadata": {},
   "outputs": [
    {
     "name": "stdout",
     "output_type": "stream",
     "text": [
      "1.6902042229145033\n"
     ]
    }
   ],
   "source": [
    "print(df['Gls'].mean())"
   ]
  },
  {
   "cell_type": "code",
   "execution_count": 6,
   "id": "146c5f03",
   "metadata": {},
   "outputs": [
    {
     "data": {
      "text/plain": [
       "1.6902042229145033"
      ]
     },
     "execution_count": 6,
     "metadata": {},
     "output_type": "execute_result"
    }
   ],
   "source": [
    "np.mean(df['Gls'])"
   ]
  },
  {
   "cell_type": "code",
   "execution_count": 7,
   "id": "768b61d6",
   "metadata": {},
   "outputs": [
    {
     "name": "stdout",
     "output_type": "stream",
     "text": [
      "4.2317073170731705\n"
     ]
    }
   ],
   "source": [
    "#find mean goals for Forwards over 30 years old\n",
    "print(df[(df['Age'] >= 30) & (df['Pos'].str.contains('FW'))]['Gls'].mean())"
   ]
  },
  {
   "cell_type": "code",
   "execution_count": 8,
   "id": "ac398d31",
   "metadata": {},
   "outputs": [
    {
     "data": {
      "text/plain": [
       "0       NaN\n",
       "1       NaN\n",
       "2       NaN\n",
       "3       NaN\n",
       "4       0.4\n",
       "       ... \n",
       "2884    3.4\n",
       "2885    3.4\n",
       "2886    3.8\n",
       "2887    3.8\n",
       "2888    4.0\n",
       "Name: Gls, Length: 2889, dtype: float64"
      ]
     },
     "execution_count": 8,
     "metadata": {},
     "output_type": "execute_result"
    }
   ],
   "source": [
    "#get rolling average for 5 rows (window)\n",
    "df['Gls'].rolling(window=5).mean()"
   ]
  },
  {
   "cell_type": "code",
   "execution_count": 9,
   "id": "79e432bf",
   "metadata": {},
   "outputs": [
    {
     "data": {
      "text/plain": [
       "0.0"
      ]
     },
     "execution_count": 9,
     "metadata": {},
     "output_type": "execute_result"
    }
   ],
   "source": [
    "#find median\n",
    "df['Gls'].median()"
   ]
  },
  {
   "cell_type": "code",
   "execution_count": 10,
   "id": "e4b28261",
   "metadata": {},
   "outputs": [
    {
     "data": {
      "text/plain": [
       "0.0"
      ]
     },
     "execution_count": 10,
     "metadata": {},
     "output_type": "execute_result"
    }
   ],
   "source": [
    "np.median(df['Gls'])"
   ]
  },
  {
   "cell_type": "code",
   "execution_count": 11,
   "id": "035adf52",
   "metadata": {},
   "outputs": [
    {
     "data": {
      "text/plain": [
       "0    0\n",
       "Name: Gls, dtype: int64"
      ]
     },
     "execution_count": 11,
     "metadata": {},
     "output_type": "execute_result"
    }
   ],
   "source": [
    "#find mode (most occurring number)\n",
    "df['Gls'].mode()"
   ]
  },
  {
   "cell_type": "code",
   "execution_count": 12,
   "id": "b446b0bb",
   "metadata": {},
   "outputs": [
    {
     "data": {
      "text/plain": [
       "36"
      ]
     },
     "execution_count": 12,
     "metadata": {},
     "output_type": "execute_result"
    }
   ],
   "source": [
    "#find max value\n",
    "df['Gls'].max()"
   ]
  },
  {
   "cell_type": "code",
   "execution_count": 13,
   "id": "da5fc3ae",
   "metadata": {},
   "outputs": [
    {
     "data": {
      "text/plain": [
       "0"
      ]
     },
     "execution_count": 13,
     "metadata": {},
     "output_type": "execute_result"
    }
   ],
   "source": [
    "#find min value\n",
    "df['Gls'].min()"
   ]
  },
  {
   "cell_type": "code",
   "execution_count": 14,
   "id": "30db78dd",
   "metadata": {},
   "outputs": [
    {
     "data": {
      "text/plain": [
       "36"
      ]
     },
     "execution_count": 14,
     "metadata": {},
     "output_type": "execute_result"
    }
   ],
   "source": [
    "#find the range\n",
    "df['Gls'].max() - df['Gls'].min()"
   ]
  },
  {
   "cell_type": "code",
   "execution_count": 15,
   "id": "e99d398d",
   "metadata": {},
   "outputs": [
    {
     "data": {
      "text/plain": [
       "9.972899161879985"
      ]
     },
     "execution_count": 15,
     "metadata": {},
     "output_type": "execute_result"
    }
   ],
   "source": [
    "#calculate spread / variance between expected value and actual value\n",
    "df['Gls'].var()"
   ]
  },
  {
   "cell_type": "code",
   "execution_count": 16,
   "id": "5dd98e12",
   "metadata": {},
   "outputs": [
    {
     "data": {
      "text/plain": [
       "3.1579897342898353"
      ]
     },
     "execution_count": 16,
     "metadata": {},
     "output_type": "execute_result"
    }
   ],
   "source": [
    "#standard deviation: square-root of variance\n",
    "df['Gls'].std()"
   ]
  },
  {
   "cell_type": "code",
   "execution_count": 18,
   "id": "1bb03328",
   "metadata": {},
   "outputs": [
    {
     "data": {
      "text/plain": [
       "2.0"
      ]
     },
     "execution_count": 18,
     "metadata": {},
     "output_type": "execute_result"
    }
   ],
   "source": [
    "#calculate percentiles\n",
    "df['Gls'].quantile(.75)"
   ]
  },
  {
   "cell_type": "code",
   "execution_count": 19,
   "id": "dda40aa9",
   "metadata": {},
   "outputs": [
    {
     "data": {
      "text/plain": [
       "2.0"
      ]
     },
     "execution_count": 19,
     "metadata": {},
     "output_type": "execute_result"
    }
   ],
   "source": [
    "np.percentile(df['Gls'], 75)"
   ]
  },
  {
   "cell_type": "code",
   "execution_count": 20,
   "id": "07b4e382",
   "metadata": {},
   "outputs": [
    {
     "data": {
      "text/plain": [
       "15.0"
      ]
     },
     "execution_count": 20,
     "metadata": {},
     "output_type": "execute_result"
    }
   ],
   "source": [
    "np.percentile(df['Gls'], 99)"
   ]
  },
  {
   "cell_type": "code",
   "execution_count": 21,
   "id": "992a55d8",
   "metadata": {},
   "outputs": [
    {
     "data": {
      "text/plain": [
       "0.0"
      ]
     },
     "execution_count": 21,
     "metadata": {},
     "output_type": "execute_result"
    }
   ],
   "source": [
    "np.percentile(df['Gls'], 15)"
   ]
  },
  {
   "cell_type": "code",
   "execution_count": 22,
   "id": "c78819d5",
   "metadata": {},
   "outputs": [
    {
     "data": {
      "text/plain": [
       "3.578540247914825"
      ]
     },
     "execution_count": 22,
     "metadata": {},
     "output_type": "execute_result"
    }
   ],
   "source": [
    "#finding skew\n",
    "df['Gls'].skew()"
   ]
  },
  {
   "cell_type": "code",
   "execution_count": 23,
   "id": "0f217a00",
   "metadata": {},
   "outputs": [
    {
     "data": {
      "text/plain": [
       "0.5453283410448251"
      ]
     },
     "execution_count": 23,
     "metadata": {},
     "output_type": "execute_result"
    }
   ],
   "source": [
    "#finding correlation\n",
    "df['Gls'].corr(df['Ast'])"
   ]
  },
  {
   "cell_type": "code",
   "execution_count": 24,
   "id": "b4f9119f",
   "metadata": {},
   "outputs": [
    {
     "data": {
      "text/plain": [
       "<Axes: >"
      ]
     },
     "execution_count": 24,
     "metadata": {},
     "output_type": "execute_result"
    },
    {
     "data": {
      "image/png": "[encoded data removed]",
      "text/plain": [
       "<Figure size 640x480 with 2 Axes>"
      ]
     },
     "metadata": {},
     "output_type": "display_data"
    }
   ],
   "source": [
    "sns.heatmap(df[['Gls', 'Ast', 'xG', 'CrdY', 'CrdR']].corr(), annot=True,\n",
    "           cmap='coolwarm')"
   ]
  },
  {
   "cell_type": "code",
   "execution_count": null,
   "id": "b20be362",
   "metadata": {},
   "outputs": [],
   "source": []
  }
 ],
 "metadata": {
  "kernelspec": {
   "display_name": "Python 3 (ipykernel)",
   "language": "python",
   "name": "python3"
  },
  "language_info": {
   "codemirror_mode": {
    "name": "ipython",
    "version": 3
   },
   "file_extension": ".py",
   "mimetype": "text/x-python",
   "name": "python",
   "nbconvert_exporter": "python",
   "pygments_lexer": "ipython3",
   "version": "3.11.5"
  }
 },
 "nbformat": 4,
 "nbformat_minor": 5
}
