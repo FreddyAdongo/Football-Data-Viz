{
 "cells": [
  {
   "cell_type": "code",
   "execution_count": 1,
   "id": "d999e85b",
   "metadata": {},
   "outputs": [],
   "source": [
    "import requests\n",
    "from bs4 import BeautifulSoup"
   ]
  },
  {
   "cell_type": "code",
   "execution_count": 2,
   "id": "e2b83a4b",
   "metadata": {},
   "outputs": [],
   "source": [
    "url = 'https://www.gymshark.com/products/gymshark-crest-hoodie-black-ss22'"
   ]
  },
  {
   "cell_type": "code",
   "execution_count": 3,
   "id": "b611df4a",
   "metadata": {},
   "outputs": [],
   "source": [
    "headers = {\n",
    "    'User-Agent': 'Mozilla/5.0 (Windows NT 10.0; Win64; x64) AppleWebKit/537.36 (KHTML, like Gecko) Chrome/124.0.0.0 Safari/537.36'\n",
    "}"
   ]
  },
  {
   "cell_type": "code",
   "execution_count": 4,
   "id": "0b33eabb",
   "metadata": {},
   "outputs": [],
   "source": [
    "response = requests.get(\n",
    "        url,\n",
    "        headers=headers\n",
    ")"
   ]
  },
  {
   "cell_type": "code",
   "execution_count": 5,
   "id": "a869a64d",
   "metadata": {},
   "outputs": [
    {
     "data": {
      "text/plain": [
       "200"
      ]
     },
     "execution_count": 5,
     "metadata": {},
     "output_type": "execute_result"
    }
   ],
   "source": [
    "response.status_code"
   ]
  },
  {
   "cell_type": "code",
   "execution_count": 6,
   "id": "05298188",
   "metadata": {},
   "outputs": [],
   "source": [
    "soup = BeautifulSoup(response.content, 'html.parser')"
   ]
  },
  {
   "cell_type": "code",
   "execution_count": 9,
   "id": "feee44de",
   "metadata": {},
   "outputs": [
    {
     "name": "stdout",
     "output_type": "stream",
     "text": [
      "Crest Hoodie\n"
     ]
    }
   ],
   "source": [
    "title = soup.select_one('h1[class=\"product-information_title__3jR8K\"]')\n",
    "print(title.text)"
   ]
  },
  {
   "cell_type": "code",
   "execution_count": 10,
   "id": "593f2dbb",
   "metadata": {},
   "outputs": [
    {
     "name": "stdout",
     "output_type": "stream",
     "text": [
      "Crest Hoodie\n"
     ]
    }
   ],
   "source": [
    "title = soup.select_one('h1[class=\"product-information_title__3jR8K\"]')\n",
    "print(title.text)"
   ]
  },
  {
   "cell_type": "code",
   "execution_count": 23,
   "id": "d6c43857",
   "metadata": {},
   "outputs": [
    {
     "name": "stdout",
     "output_type": "stream",
     "text": [
      "[<img alt=\"Crest Hoodie in Faded Blue\" data-nimg=\"fill\" decoding=\"async\" loading=\"lazy\" sizes=\"150px\" src=\"https://cdn.shopify.com/s/files/1/0156/6146/files/CrestHoodieGSFadedBlueA2A4G-UCMG1318_3840x.jpg?v=1707211967\" srcset=\"https://cdn.shopify.com/s/files/1/0156/6146/files/CrestHoodieGSFadedBlueA2A4G-UCMG1318_16x.jpg?v=1707211967 16w, https://cdn.shopify.com/s/files/1/0156/6146/files/CrestHoodieGSFadedBlueA2A4G-UCMG1318_32x.jpg?v=1707211967 32w, https://cdn.shopify.com/s/files/1/0156/6146/files/CrestHoodieGSFadedBlueA2A4G-UCMG1318_48x.jpg?v=1707211967 48w, https://cdn.shopify.com/s/files/1/0156/6146/files/CrestHoodieGSFadedBlueA2A4G-UCMG1318_64x.jpg?v=1707211967 64w, https://cdn.shopify.com/s/files/1/0156/6146/files/CrestHoodieGSFadedBlueA2A4G-UCMG1318_82x.jpg?v=1707211967 82w, https://cdn.shopify.com/s/files/1/0156/6146/files/CrestHoodieGSFadedBlueA2A4G-UCMG1318_96x.jpg?v=1707211967 96w, https://cdn.shopify.com/s/files/1/0156/6146/files/CrestHoodieGSFadedBlueA2A4G-UCMG1318_110x.jpg?v=1707211967 110w, https://cdn.shopify.com/s/files/1/0156/6146/files/CrestHoodieGSFadedBlueA2A4G-UCMG1318_128x.jpg?v=1707211967 128w, https://cdn.shopify.com/s/files/1/0156/6146/files/CrestHoodieGSFadedBlueA2A4G-UCMG1318_140x.jpg?v=1707211967 140w, https://cdn.shopify.com/s/files/1/0156/6146/files/CrestHoodieGSFadedBlueA2A4G-UCMG1318_256x.jpg?v=1707211967 256w, https://cdn.shopify.com/s/files/1/0156/6146/files/CrestHoodieGSFadedBlueA2A4G-UCMG1318_384x.jpg?v=1707211967 384w, https://cdn.shopify.com/s/files/1/0156/6146/files/CrestHoodieGSFadedBlueA2A4G-UCMG1318_640x.jpg?v=1707211967 640w, https://cdn.shopify.com/s/files/1/0156/6146/files/CrestHoodieGSFadedBlueA2A4G-UCMG1318_750x.jpg?v=1707211967 750w, https://cdn.shopify.com/s/files/1/0156/6146/files/CrestHoodieGSFadedBlueA2A4G-UCMG1318_828x.jpg?v=1707211967 828w, https://cdn.shopify.com/s/files/1/0156/6146/files/CrestHoodieGSFadedBlueA2A4G-UCMG1318_1080x.jpg?v=1707211967 1080w, https://cdn.shopify.com/s/files/1/0156/6146/files/CrestHoodieGSFadedBlueA2A4G-UCMG1318_1200x.jpg?v=1707211967 1200w, https://cdn.shopify.com/s/files/1/0156/6146/files/CrestHoodieGSFadedBlueA2A4G-UCMG1318_1664x.jpg?v=1707211967 1664w, https://cdn.shopify.com/s/files/1/0156/6146/files/CrestHoodieGSFadedBlueA2A4G-UCMG1318_1920x.jpg?v=1707211967 1920w, https://cdn.shopify.com/s/files/1/0156/6146/files/CrestHoodieGSFadedBlueA2A4G-UCMG1318_2048x.jpg?v=1707211967 2048w, https://cdn.shopify.com/s/files/1/0156/6146/files/CrestHoodieGSFadedBlueA2A4G-UCMG1318_2160x.jpg?v=1707211967 2160w, https://cdn.shopify.com/s/files/1/0156/6146/files/CrestHoodieGSFadedBlueA2A4G-UCMG1318_2234x.jpg?v=1707211967 2234w, https://cdn.shopify.com/s/files/1/0156/6146/files/CrestHoodieGSFadedBlueA2A4G-UCMG1318_3840x.jpg?v=1707211967 3840w\" style=\"position:absolute;height:100%;width:100%;left:0;top:0;right:0;bottom:0;color:transparent\"/>, <img alt=\"Crest Hoodie in Black\" data-nimg=\"fill\" decoding=\"async\" loading=\"lazy\" sizes=\"150px\" src=\"https://cdn.shopify.com/s/files/1/0156/6146/files/CrestHoodieBlack-A2A4G-BBBB-0290_3840x.jpg?v=1686038823\" srcset=\"https://cdn.shopify.com/s/files/1/0156/6146/files/CrestHoodieBlack-A2A4G-BBBB-0290_16x.jpg?v=1686038823 16w, https://cdn.shopify.com/s/files/1/0156/6146/files/CrestHoodieBlack-A2A4G-BBBB-0290_32x.jpg?v=1686038823 32w, https://cdn.shopify.com/s/files/1/0156/6146/files/CrestHoodieBlack-A2A4G-BBBB-0290_48x.jpg?v=1686038823 48w, https://cdn.shopify.com/s/files/1/0156/6146/files/CrestHoodieBlack-A2A4G-BBBB-0290_64x.jpg?v=1686038823 64w, https://cdn.shopify.com/s/files/1/0156/6146/files/CrestHoodieBlack-A2A4G-BBBB-0290_82x.jpg?v=1686038823 82w, https://cdn.shopify.com/s/files/1/0156/6146/files/CrestHoodieBlack-A2A4G-BBBB-0290_96x.jpg?v=1686038823 96w, https://cdn.shopify.com/s/files/1/0156/6146/files/CrestHoodieBlack-A2A4G-BBBB-0290_110x.jpg?v=1686038823 110w, https://cdn.shopify.com/s/files/1/0156/6146/files/CrestHoodieBlack-A2A4G-BBBB-0290_128x.jpg?v=1686038823 128w, https://cdn.shopify.com/s/files/1/0156/6146/files/CrestHoodieBlack-A2A4G-BBBB-0290_140x.jpg?v=1686038823 140w, https://cdn.shopify.com/s/files/1/0156/6146/files/CrestHoodieBlack-A2A4G-BBBB-0290_256x.jpg?v=1686038823 256w, https://cdn.shopify.com/s/files/1/0156/6146/files/CrestHoodieBlack-A2A4G-BBBB-0290_384x.jpg?v=1686038823 384w, https://cdn.shopify.com/s/files/1/0156/6146/files/CrestHoodieBlack-A2A4G-BBBB-0290_640x.jpg?v=1686038823 640w, https://cdn.shopify.com/s/files/1/0156/6146/files/CrestHoodieBlack-A2A4G-BBBB-0290_750x.jpg?v=1686038823 750w, https://cdn.shopify.com/s/files/1/0156/6146/files/CrestHoodieBlack-A2A4G-BBBB-0290_828x.jpg?v=1686038823 828w, https://cdn.shopify.com/s/files/1/0156/6146/files/CrestHoodieBlack-A2A4G-BBBB-0290_1080x.jpg?v=1686038823 1080w, https://cdn.shopify.com/s/files/1/0156/6146/files/CrestHoodieBlack-A2A4G-BBBB-0290_1200x.jpg?v=1686038823 1200w, https://cdn.shopify.com/s/files/1/0156/6146/files/CrestHoodieBlack-A2A4G-BBBB-0290_1664x.jpg?v=1686038823 1664w, https://cdn.shopify.com/s/files/1/0156/6146/files/CrestHoodieBlack-A2A4G-BBBB-0290_1920x.jpg?v=1686038823 1920w, https://cdn.shopify.com/s/files/1/0156/6146/files/CrestHoodieBlack-A2A4G-BBBB-0290_2048x.jpg?v=1686038823 2048w, https://cdn.shopify.com/s/files/1/0156/6146/files/CrestHoodieBlack-A2A4G-BBBB-0290_2160x.jpg?v=1686038823 2160w, https://cdn.shopify.com/s/files/1/0156/6146/files/CrestHoodieBlack-A2A4G-BBBB-0290_2234x.jpg?v=1686038823 2234w, https://cdn.shopify.com/s/files/1/0156/6146/files/CrestHoodieBlack-A2A4G-BBBB-0290_3840x.jpg?v=1686038823 3840w\" style=\"position:absolute;height:100%;width:100%;left:0;top:0;right:0;bottom:0;color:transparent\"/>, <img alt=\"Crest Hoodie in Natural Sage Green\" data-nimg=\"fill\" decoding=\"async\" loading=\"lazy\" sizes=\"150px\" src=\"https://cdn.shopify.com/s/files/1/0156/6146/files/CrestHoodieGSNaturalSageGreenA2A4G-ECJK1239_3840x.jpg?v=1705568068\" srcset=\"https://cdn.shopify.com/s/files/1/0156/6146/files/CrestHoodieGSNaturalSageGreenA2A4G-ECJK1239_16x.jpg?v=1705568068 16w, https://cdn.shopify.com/s/files/1/0156/6146/files/CrestHoodieGSNaturalSageGreenA2A4G-ECJK1239_32x.jpg?v=1705568068 32w, https://cdn.shopify.com/s/files/1/0156/6146/files/CrestHoodieGSNaturalSageGreenA2A4G-ECJK1239_48x.jpg?v=1705568068 48w, https://cdn.shopify.com/s/files/1/0156/6146/files/CrestHoodieGSNaturalSageGreenA2A4G-ECJK1239_64x.jpg?v=1705568068 64w, https://cdn.shopify.com/s/files/1/0156/6146/files/CrestHoodieGSNaturalSageGreenA2A4G-ECJK1239_82x.jpg?v=1705568068 82w, https://cdn.shopify.com/s/files/1/0156/6146/files/CrestHoodieGSNaturalSageGreenA2A4G-ECJK1239_96x.jpg?v=1705568068 96w, https://cdn.shopify.com/s/files/1/0156/6146/files/CrestHoodieGSNaturalSageGreenA2A4G-ECJK1239_110x.jpg?v=1705568068 110w, https://cdn.shopify.com/s/files/1/0156/6146/files/CrestHoodieGSNaturalSageGreenA2A4G-ECJK1239_128x.jpg?v=1705568068 128w, https://cdn.shopify.com/s/files/1/0156/6146/files/CrestHoodieGSNaturalSageGreenA2A4G-ECJK1239_140x.jpg?v=1705568068 140w, https://cdn.shopify.com/s/files/1/0156/6146/files/CrestHoodieGSNaturalSageGreenA2A4G-ECJK1239_256x.jpg?v=1705568068 256w, https://cdn.shopify.com/s/files/1/0156/6146/files/CrestHoodieGSNaturalSageGreenA2A4G-ECJK1239_384x.jpg?v=1705568068 384w, https://cdn.shopify.com/s/files/1/0156/6146/files/CrestHoodieGSNaturalSageGreenA2A4G-ECJK1239_640x.jpg?v=1705568068 640w, https://cdn.shopify.com/s/files/1/0156/6146/files/CrestHoodieGSNaturalSageGreenA2A4G-ECJK1239_750x.jpg?v=1705568068 750w, https://cdn.shopify.com/s/files/1/0156/6146/files/CrestHoodieGSNaturalSageGreenA2A4G-ECJK1239_828x.jpg?v=1705568068 828w, https://cdn.shopify.com/s/files/1/0156/6146/files/CrestHoodieGSNaturalSageGreenA2A4G-ECJK1239_1080x.jpg?v=1705568068 1080w, https://cdn.shopify.com/s/files/1/0156/6146/files/CrestHoodieGSNaturalSageGreenA2A4G-ECJK1239_1200x.jpg?v=1705568068 1200w, https://cdn.shopify.com/s/files/1/0156/6146/files/CrestHoodieGSNaturalSageGreenA2A4G-ECJK1239_1664x.jpg?v=1705568068 1664w, https://cdn.shopify.com/s/files/1/0156/6146/files/CrestHoodieGSNaturalSageGreenA2A4G-ECJK1239_1920x.jpg?v=1705568068 1920w, https://cdn.shopify.com/s/files/1/0156/6146/files/CrestHoodieGSNaturalSageGreenA2A4G-ECJK1239_2048x.jpg?v=1705568068 2048w, https://cdn.shopify.com/s/files/1/0156/6146/files/CrestHoodieGSNaturalSageGreenA2A4G-ECJK1239_2160x.jpg?v=1705568068 2160w, https://cdn.shopify.com/s/files/1/0156/6146/files/CrestHoodieGSNaturalSageGreenA2A4G-ECJK1239_2234x.jpg?v=1705568068 2234w, https://cdn.shopify.com/s/files/1/0156/6146/files/CrestHoodieGSNaturalSageGreenA2A4G-ECJK1239_3840x.jpg?v=1705568068 3840w\" style=\"position:absolute;height:100%;width:100%;left:0;top:0;right:0;bottom:0;color:transparent\"/>, <img alt=\"Crest Hoodie in Navy\" data-nimg=\"fill\" decoding=\"async\" loading=\"lazy\" sizes=\"150px\" src=\"https://cdn.shopify.com/s/files/1/0156/6146/products/CrestHoodieNavyA1A1K13.A-EditTIFF_IS_82e58378-c595-4852-818f-7d5cfa675046_3840x.jpg?v=1644314102\" srcset=\"https://cdn.shopify.com/s/files/1/0156/6146/products/CrestHoodieNavyA1A1K13.A-EditTIFF_IS_82e58378-c595-4852-818f-7d5cfa675046_16x.jpg?v=1644314102 16w, https://cdn.shopify.com/s/files/1/0156/6146/products/CrestHoodieNavyA1A1K13.A-EditTIFF_IS_82e58378-c595-4852-818f-7d5cfa675046_32x.jpg?v=1644314102 32w, https://cdn.shopify.com/s/files/1/0156/6146/products/CrestHoodieNavyA1A1K13.A-EditTIFF_IS_82e58378-c595-4852-818f-7d5cfa675046_48x.jpg?v=1644314102 48w, https://cdn.shopify.com/s/files/1/0156/6146/products/CrestHoodieNavyA1A1K13.A-EditTIFF_IS_82e58378-c595-4852-818f-7d5cfa675046_64x.jpg?v=1644314102 64w, https://cdn.shopify.com/s/files/1/0156/6146/products/CrestHoodieNavyA1A1K13.A-EditTIFF_IS_82e58378-c595-4852-818f-7d5cfa675046_82x.jpg?v=1644314102 82w, https://cdn.shopify.com/s/files/1/0156/6146/products/CrestHoodieNavyA1A1K13.A-EditTIFF_IS_82e58378-c595-4852-818f-7d5cfa675046_96x.jpg?v=1644314102 96w, https://cdn.shopify.com/s/files/1/0156/6146/products/CrestHoodieNavyA1A1K13.A-EditTIFF_IS_82e58378-c595-4852-818f-7d5cfa675046_110x.jpg?v=1644314102 110w, https://cdn.shopify.com/s/files/1/0156/6146/products/CrestHoodieNavyA1A1K13.A-EditTIFF_IS_82e58378-c595-4852-818f-7d5cfa675046_128x.jpg?v=1644314102 128w, https://cdn.shopify.com/s/files/1/0156/6146/products/CrestHoodieNavyA1A1K13.A-EditTIFF_IS_82e58378-c595-4852-818f-7d5cfa675046_140x.jpg?v=1644314102 140w, https://cdn.shopify.com/s/files/1/0156/6146/products/CrestHoodieNavyA1A1K13.A-EditTIFF_IS_82e58378-c595-4852-818f-7d5cfa675046_256x.jpg?v=1644314102 256w, https://cdn.shopify.com/s/files/1/0156/6146/products/CrestHoodieNavyA1A1K13.A-EditTIFF_IS_82e58378-c595-4852-818f-7d5cfa675046_384x.jpg?v=1644314102 384w, https://cdn.shopify.com/s/files/1/0156/6146/products/CrestHoodieNavyA1A1K13.A-EditTIFF_IS_82e58378-c595-4852-818f-7d5cfa675046_640x.jpg?v=1644314102 640w, https://cdn.shopify.com/s/files/1/0156/6146/products/CrestHoodieNavyA1A1K13.A-EditTIFF_IS_82e58378-c595-4852-818f-7d5cfa675046_750x.jpg?v=1644314102 750w, https://cdn.shopify.com/s/files/1/0156/6146/products/CrestHoodieNavyA1A1K13.A-EditTIFF_IS_82e58378-c595-4852-818f-7d5cfa675046_828x.jpg?v=1644314102 828w, https://cdn.shopify.com/s/files/1/0156/6146/products/CrestHoodieNavyA1A1K13.A-EditTIFF_IS_82e58378-c595-4852-818f-7d5cfa675046_1080x.jpg?v=1644314102 1080w, https://cdn.shopify.com/s/files/1/0156/6146/products/CrestHoodieNavyA1A1K13.A-EditTIFF_IS_82e58378-c595-4852-818f-7d5cfa675046_1200x.jpg?v=1644314102 1200w, https://cdn.shopify.com/s/files/1/0156/6146/products/CrestHoodieNavyA1A1K13.A-EditTIFF_IS_82e58378-c595-4852-818f-7d5cfa675046_1664x.jpg?v=1644314102 1664w, https://cdn.shopify.com/s/files/1/0156/6146/products/CrestHoodieNavyA1A1K13.A-EditTIFF_IS_82e58378-c595-4852-818f-7d5cfa675046_1920x.jpg?v=1644314102 1920w, https://cdn.shopify.com/s/files/1/0156/6146/products/CrestHoodieNavyA1A1K13.A-EditTIFF_IS_82e58378-c595-4852-818f-7d5cfa675046_2048x.jpg?v=1644314102 2048w, https://cdn.shopify.com/s/files/1/0156/6146/products/CrestHoodieNavyA1A1K13.A-EditTIFF_IS_82e58378-c595-4852-818f-7d5cfa675046_2160x.jpg?v=1644314102 2160w, https://cdn.shopify.com/s/files/1/0156/6146/products/CrestHoodieNavyA1A1K13.A-EditTIFF_IS_82e58378-c595-4852-818f-7d5cfa675046_2234x.jpg?v=1644314102 2234w, https://cdn.shopify.com/s/files/1/0156/6146/products/CrestHoodieNavyA1A1K13.A-EditTIFF_IS_82e58378-c595-4852-818f-7d5cfa675046_3840x.jpg?v=1644314102 3840w\" style=\"position:absolute;height:100%;width:100%;left:0;top:0;right:0;bottom:0;color:transparent\"/>, <img alt=\"Crest Hoodie in Light Grey Marl\" data-nimg=\"fill\" decoding=\"async\" loading=\"lazy\" sizes=\"150px\" src=\"https://cdn.shopify.com/s/files/1/0156/6146/products/CrestHoodieM_Slim_LightGreyCoreMarlA2A4G-GBCN.A_ZH_ZH_98f85b8a-b977-43e3-b70a-5192c8b1745e_3840x.jpg?v=1662989967\" srcset=\"https://cdn.shopify.com/s/files/1/0156/6146/products/CrestHoodieM_Slim_LightGreyCoreMarlA2A4G-GBCN.A_ZH_ZH_98f85b8a-b977-43e3-b70a-5192c8b1745e_16x.jpg?v=1662989967 16w, https://cdn.shopify.com/s/files/1/0156/6146/products/CrestHoodieM_Slim_LightGreyCoreMarlA2A4G-GBCN.A_ZH_ZH_98f85b8a-b977-43e3-b70a-5192c8b1745e_32x.jpg?v=1662989967 32w, https://cdn.shopify.com/s/files/1/0156/6146/products/CrestHoodieM_Slim_LightGreyCoreMarlA2A4G-GBCN.A_ZH_ZH_98f85b8a-b977-43e3-b70a-5192c8b1745e_48x.jpg?v=1662989967 48w, https://cdn.shopify.com/s/files/1/0156/6146/products/CrestHoodieM_Slim_LightGreyCoreMarlA2A4G-GBCN.A_ZH_ZH_98f85b8a-b977-43e3-b70a-5192c8b1745e_64x.jpg?v=1662989967 64w, https://cdn.shopify.com/s/files/1/0156/6146/products/CrestHoodieM_Slim_LightGreyCoreMarlA2A4G-GBCN.A_ZH_ZH_98f85b8a-b977-43e3-b70a-5192c8b1745e_82x.jpg?v=1662989967 82w, https://cdn.shopify.com/s/files/1/0156/6146/products/CrestHoodieM_Slim_LightGreyCoreMarlA2A4G-GBCN.A_ZH_ZH_98f85b8a-b977-43e3-b70a-5192c8b1745e_96x.jpg?v=1662989967 96w, https://cdn.shopify.com/s/files/1/0156/6146/products/CrestHoodieM_Slim_LightGreyCoreMarlA2A4G-GBCN.A_ZH_ZH_98f85b8a-b977-43e3-b70a-5192c8b1745e_110x.jpg?v=1662989967 110w, https://cdn.shopify.com/s/files/1/0156/6146/products/CrestHoodieM_Slim_LightGreyCoreMarlA2A4G-GBCN.A_ZH_ZH_98f85b8a-b977-43e3-b70a-5192c8b1745e_128x.jpg?v=1662989967 128w, https://cdn.shopify.com/s/files/1/0156/6146/products/CrestHoodieM_Slim_LightGreyCoreMarlA2A4G-GBCN.A_ZH_ZH_98f85b8a-b977-43e3-b70a-5192c8b1745e_140x.jpg?v=1662989967 140w, https://cdn.shopify.com/s/files/1/0156/6146/products/CrestHoodieM_Slim_LightGreyCoreMarlA2A4G-GBCN.A_ZH_ZH_98f85b8a-b977-43e3-b70a-5192c8b1745e_256x.jpg?v=1662989967 256w, https://cdn.shopify.com/s/files/1/0156/6146/products/CrestHoodieM_Slim_LightGreyCoreMarlA2A4G-GBCN.A_ZH_ZH_98f85b8a-b977-43e3-b70a-5192c8b1745e_384x.jpg?v=1662989967 384w, https://cdn.shopify.com/s/files/1/0156/6146/products/CrestHoodieM_Slim_LightGreyCoreMarlA2A4G-GBCN.A_ZH_ZH_98f85b8a-b977-43e3-b70a-5192c8b1745e_640x.jpg?v=1662989967 640w, https://cdn.shopify.com/s/files/1/0156/6146/products/CrestHoodieM_Slim_LightGreyCoreMarlA2A4G-GBCN.A_ZH_ZH_98f85b8a-b977-43e3-b70a-5192c8b1745e_750x.jpg?v=1662989967 750w, https://cdn.shopify.com/s/files/1/0156/6146/products/CrestHoodieM_Slim_LightGreyCoreMarlA2A4G-GBCN.A_ZH_ZH_98f85b8a-b977-43e3-b70a-5192c8b1745e_828x.jpg?v=1662989967 828w, https://cdn.shopify.com/s/files/1/0156/6146/products/CrestHoodieM_Slim_LightGreyCoreMarlA2A4G-GBCN.A_ZH_ZH_98f85b8a-b977-43e3-b70a-5192c8b1745e_1080x.jpg?v=1662989967 1080w, https://cdn.shopify.com/s/files/1/0156/6146/products/CrestHoodieM_Slim_LightGreyCoreMarlA2A4G-GBCN.A_ZH_ZH_98f85b8a-b977-43e3-b70a-5192c8b1745e_1200x.jpg?v=1662989967 1200w, https://cdn.shopify.com/s/files/1/0156/6146/products/CrestHoodieM_Slim_LightGreyCoreMarlA2A4G-GBCN.A_ZH_ZH_98f85b8a-b977-43e3-b70a-5192c8b1745e_1664x.jpg?v=1662989967 1664w, https://cdn.shopify.com/s/files/1/0156/6146/products/CrestHoodieM_Slim_LightGreyCoreMarlA2A4G-GBCN.A_ZH_ZH_98f85b8a-b977-43e3-b70a-5192c8b1745e_1920x.jpg?v=1662989967 1920w, https://cdn.shopify.com/s/files/1/0156/6146/products/CrestHoodieM_Slim_LightGreyCoreMarlA2A4G-GBCN.A_ZH_ZH_98f85b8a-b977-43e3-b70a-5192c8b1745e_2048x.jpg?v=1662989967 2048w, https://cdn.shopify.com/s/files/1/0156/6146/products/CrestHoodieM_Slim_LightGreyCoreMarlA2A4G-GBCN.A_ZH_ZH_98f85b8a-b977-43e3-b70a-5192c8b1745e_2160x.jpg?v=1662989967 2160w, https://cdn.shopify.com/s/files/1/0156/6146/products/CrestHoodieM_Slim_LightGreyCoreMarlA2A4G-GBCN.A_ZH_ZH_98f85b8a-b977-43e3-b70a-5192c8b1745e_2234x.jpg?v=1662989967 2234w, https://cdn.shopify.com/s/files/1/0156/6146/products/CrestHoodieM_Slim_LightGreyCoreMarlA2A4G-GBCN.A_ZH_ZH_98f85b8a-b977-43e3-b70a-5192c8b1745e_3840x.jpg?v=1662989967 3840w\" style=\"position:absolute;height:100%;width:100%;left:0;top:0;right:0;bottom:0;color:transparent\"/>, <img alt=\"Crest Hoodie in Core Olive\" data-nimg=\"fill\" decoding=\"async\" loading=\"lazy\" sizes=\"150px\" src=\"https://cdn.shopify.com/s/files/1/0156/6146/products/CrestHoodieM_Slim_CoreOliveA2A4G-EBF1.A_ZH_ZH_3840x.jpg?v=1644314102\" srcset=\"https://cdn.shopify.com/s/files/1/0156/6146/products/CrestHoodieM_Slim_CoreOliveA2A4G-EBF1.A_ZH_ZH_16x.jpg?v=1644314102 16w, https://cdn.shopify.com/s/files/1/0156/6146/products/CrestHoodieM_Slim_CoreOliveA2A4G-EBF1.A_ZH_ZH_32x.jpg?v=1644314102 32w, https://cdn.shopify.com/s/files/1/0156/6146/products/CrestHoodieM_Slim_CoreOliveA2A4G-EBF1.A_ZH_ZH_48x.jpg?v=1644314102 48w, https://cdn.shopify.com/s/files/1/0156/6146/products/CrestHoodieM_Slim_CoreOliveA2A4G-EBF1.A_ZH_ZH_64x.jpg?v=1644314102 64w, https://cdn.shopify.com/s/files/1/0156/6146/products/CrestHoodieM_Slim_CoreOliveA2A4G-EBF1.A_ZH_ZH_82x.jpg?v=1644314102 82w, https://cdn.shopify.com/s/files/1/0156/6146/products/CrestHoodieM_Slim_CoreOliveA2A4G-EBF1.A_ZH_ZH_96x.jpg?v=1644314102 96w, https://cdn.shopify.com/s/files/1/0156/6146/products/CrestHoodieM_Slim_CoreOliveA2A4G-EBF1.A_ZH_ZH_110x.jpg?v=1644314102 110w, https://cdn.shopify.com/s/files/1/0156/6146/products/CrestHoodieM_Slim_CoreOliveA2A4G-EBF1.A_ZH_ZH_128x.jpg?v=1644314102 128w, https://cdn.shopify.com/s/files/1/0156/6146/products/CrestHoodieM_Slim_CoreOliveA2A4G-EBF1.A_ZH_ZH_140x.jpg?v=1644314102 140w, https://cdn.shopify.com/s/files/1/0156/6146/products/CrestHoodieM_Slim_CoreOliveA2A4G-EBF1.A_ZH_ZH_256x.jpg?v=1644314102 256w, https://cdn.shopify.com/s/files/1/0156/6146/products/CrestHoodieM_Slim_CoreOliveA2A4G-EBF1.A_ZH_ZH_384x.jpg?v=1644314102 384w, https://cdn.shopify.com/s/files/1/0156/6146/products/CrestHoodieM_Slim_CoreOliveA2A4G-EBF1.A_ZH_ZH_640x.jpg?v=1644314102 640w, https://cdn.shopify.com/s/files/1/0156/6146/products/CrestHoodieM_Slim_CoreOliveA2A4G-EBF1.A_ZH_ZH_750x.jpg?v=1644314102 750w, https://cdn.shopify.com/s/files/1/0156/6146/products/CrestHoodieM_Slim_CoreOliveA2A4G-EBF1.A_ZH_ZH_828x.jpg?v=1644314102 828w, https://cdn.shopify.com/s/files/1/0156/6146/products/CrestHoodieM_Slim_CoreOliveA2A4G-EBF1.A_ZH_ZH_1080x.jpg?v=1644314102 1080w, https://cdn.shopify.com/s/files/1/0156/6146/products/CrestHoodieM_Slim_CoreOliveA2A4G-EBF1.A_ZH_ZH_1200x.jpg?v=1644314102 1200w, https://cdn.shopify.com/s/files/1/0156/6146/products/CrestHoodieM_Slim_CoreOliveA2A4G-EBF1.A_ZH_ZH_1664x.jpg?v=1644314102 1664w, https://cdn.shopify.com/s/files/1/0156/6146/products/CrestHoodieM_Slim_CoreOliveA2A4G-EBF1.A_ZH_ZH_1920x.jpg?v=1644314102 1920w, https://cdn.shopify.com/s/files/1/0156/6146/products/CrestHoodieM_Slim_CoreOliveA2A4G-EBF1.A_ZH_ZH_2048x.jpg?v=1644314102 2048w, https://cdn.shopify.com/s/files/1/0156/6146/products/CrestHoodieM_Slim_CoreOliveA2A4G-EBF1.A_ZH_ZH_2160x.jpg?v=1644314102 2160w, https://cdn.shopify.com/s/files/1/0156/6146/products/CrestHoodieM_Slim_CoreOliveA2A4G-EBF1.A_ZH_ZH_2234x.jpg?v=1644314102 2234w, https://cdn.shopify.com/s/files/1/0156/6146/products/CrestHoodieM_Slim_CoreOliveA2A4G-EBF1.A_ZH_ZH_3840x.jpg?v=1644314102 3840w\" style=\"position:absolute;height:100%;width:100%;left:0;top:0;right:0;bottom:0;color:transparent\"/>]\n"
     ]
    }
   ],
   "source": [
    "colours = soup.select('div[class=\"variants_variant-wrapper__Z5Vq9\"] a img')"
   ]
  },
  {
   "cell_type": "code",
   "execution_count": 15,
   "id": "623da1e7",
   "metadata": {},
   "outputs": [
    {
     "data": {
      "text/plain": [
       "['Crest Hoodie in Faded Blue',\n",
       " 'Crest Hoodie in Black',\n",
       " 'Crest Hoodie in Natural Sage Green',\n",
       " 'Crest Hoodie in Navy',\n",
       " 'Crest Hoodie in Light Grey Marl',\n",
       " 'Crest Hoodie in Core Olive']"
      ]
     },
     "execution_count": 15,
     "metadata": {},
     "output_type": "execute_result"
    }
   ],
   "source": [
    "[x.attrs['alt'] for x in colors]"
   ]
  },
  {
   "cell_type": "code",
   "execution_count": 16,
   "id": "4a9e90cc",
   "metadata": {},
   "outputs": [
    {
     "data": {
      "text/plain": [
       "['Faded Blue',\n",
       " 'Black',\n",
       " 'Natural Sage Green',\n",
       " 'Navy',\n",
       " 'Light Grey Marl',\n",
       " 'Core Olive']"
      ]
     },
     "execution_count": 16,
     "metadata": {},
     "output_type": "execute_result"
    }
   ],
   "source": [
    "[x.attrs['alt'].split(' in ')[-1] for x in colors]"
   ]
  },
  {
   "cell_type": "code",
   "execution_count": 17,
   "id": "97e2f529",
   "metadata": {},
   "outputs": [],
   "source": [
    "# *= css class attribute contains some text\n",
    "# :-soup-contains(\"text\") text of element contains some value"
   ]
  },
  {
   "cell_type": "code",
   "execution_count": 18,
   "id": "30a14cf0",
   "metadata": {},
   "outputs": [
    {
     "data": {
      "text/plain": [
       "[<img alt=\"Crest Hoodie in Black - view 1\" data-key=\"0\" data-nimg=\"fill\" decoding=\"async\" loading=\"lazy\" sizes=\"100vw\" src=\"https://cdn.shopify.com/s/files/1/0156/6146/files/CrestHoodieBlack-A2A4G-BBBB-0290_3840x.jpg?v=1686038823\" srcset=\"https://cdn.shopify.com/s/files/1/0156/6146/files/CrestHoodieBlack-A2A4G-BBBB-0290_82x.jpg?v=1686038823 82w, https://cdn.shopify.com/s/files/1/0156/6146/files/CrestHoodieBlack-A2A4G-BBBB-0290_110x.jpg?v=1686038823 110w, https://cdn.shopify.com/s/files/1/0156/6146/files/CrestHoodieBlack-A2A4G-BBBB-0290_140x.jpg?v=1686038823 140w, https://cdn.shopify.com/s/files/1/0156/6146/files/CrestHoodieBlack-A2A4G-BBBB-0290_640x.jpg?v=1686038823 640w, https://cdn.shopify.com/s/files/1/0156/6146/files/CrestHoodieBlack-A2A4G-BBBB-0290_750x.jpg?v=1686038823 750w, https://cdn.shopify.com/s/files/1/0156/6146/files/CrestHoodieBlack-A2A4G-BBBB-0290_828x.jpg?v=1686038823 828w, https://cdn.shopify.com/s/files/1/0156/6146/files/CrestHoodieBlack-A2A4G-BBBB-0290_1080x.jpg?v=1686038823 1080w, https://cdn.shopify.com/s/files/1/0156/6146/files/CrestHoodieBlack-A2A4G-BBBB-0290_1200x.jpg?v=1686038823 1200w, https://cdn.shopify.com/s/files/1/0156/6146/files/CrestHoodieBlack-A2A4G-BBBB-0290_1664x.jpg?v=1686038823 1664w, https://cdn.shopify.com/s/files/1/0156/6146/files/CrestHoodieBlack-A2A4G-BBBB-0290_1920x.jpg?v=1686038823 1920w, https://cdn.shopify.com/s/files/1/0156/6146/files/CrestHoodieBlack-A2A4G-BBBB-0290_2048x.jpg?v=1686038823 2048w, https://cdn.shopify.com/s/files/1/0156/6146/files/CrestHoodieBlack-A2A4G-BBBB-0290_2160x.jpg?v=1686038823 2160w, https://cdn.shopify.com/s/files/1/0156/6146/files/CrestHoodieBlack-A2A4G-BBBB-0290_2234x.jpg?v=1686038823 2234w, https://cdn.shopify.com/s/files/1/0156/6146/files/CrestHoodieBlack-A2A4G-BBBB-0290_3840x.jpg?v=1686038823 3840w\" style=\"position:absolute;height:100%;width:100%;left:0;top:0;right:0;bottom:0;color:transparent\"/>,\n",
       " <img alt=\"Crest Hoodie in Black - view 2\" data-key=\"1\" data-nimg=\"fill\" decoding=\"async\" loading=\"lazy\" sizes=\"100vw\" src=\"https://cdn.shopify.com/s/files/1/0156/6146/files/CrestHoodieBlack-A2A4G-BBBB-0301_3840x.jpg?v=1686038823\" srcset=\"https://cdn.shopify.com/s/files/1/0156/6146/files/CrestHoodieBlack-A2A4G-BBBB-0301_82x.jpg?v=1686038823 82w, https://cdn.shopify.com/s/files/1/0156/6146/files/CrestHoodieBlack-A2A4G-BBBB-0301_110x.jpg?v=1686038823 110w, https://cdn.shopify.com/s/files/1/0156/6146/files/CrestHoodieBlack-A2A4G-BBBB-0301_140x.jpg?v=1686038823 140w, https://cdn.shopify.com/s/files/1/0156/6146/files/CrestHoodieBlack-A2A4G-BBBB-0301_640x.jpg?v=1686038823 640w, https://cdn.shopify.com/s/files/1/0156/6146/files/CrestHoodieBlack-A2A4G-BBBB-0301_750x.jpg?v=1686038823 750w, https://cdn.shopify.com/s/files/1/0156/6146/files/CrestHoodieBlack-A2A4G-BBBB-0301_828x.jpg?v=1686038823 828w, https://cdn.shopify.com/s/files/1/0156/6146/files/CrestHoodieBlack-A2A4G-BBBB-0301_1080x.jpg?v=1686038823 1080w, https://cdn.shopify.com/s/files/1/0156/6146/files/CrestHoodieBlack-A2A4G-BBBB-0301_1200x.jpg?v=1686038823 1200w, https://cdn.shopify.com/s/files/1/0156/6146/files/CrestHoodieBlack-A2A4G-BBBB-0301_1664x.jpg?v=1686038823 1664w, https://cdn.shopify.com/s/files/1/0156/6146/files/CrestHoodieBlack-A2A4G-BBBB-0301_1920x.jpg?v=1686038823 1920w, https://cdn.shopify.com/s/files/1/0156/6146/files/CrestHoodieBlack-A2A4G-BBBB-0301_2048x.jpg?v=1686038823 2048w, https://cdn.shopify.com/s/files/1/0156/6146/files/CrestHoodieBlack-A2A4G-BBBB-0301_2160x.jpg?v=1686038823 2160w, https://cdn.shopify.com/s/files/1/0156/6146/files/CrestHoodieBlack-A2A4G-BBBB-0301_2234x.jpg?v=1686038823 2234w, https://cdn.shopify.com/s/files/1/0156/6146/files/CrestHoodieBlack-A2A4G-BBBB-0301_3840x.jpg?v=1686038823 3840w\" style=\"position:absolute;height:100%;width:100%;left:0;top:0;right:0;bottom:0;color:transparent\"/>,\n",
       " <img alt=\"Crest Hoodie in Black - view 3\" data-key=\"2\" data-nimg=\"fill\" decoding=\"async\" loading=\"lazy\" sizes=\"100vw\" src=\"https://cdn.shopify.com/s/files/1/0156/6146/files/CrestHoodieBlack-A2A4G-BBBB-0299_3840x.jpg?v=1686038823\" srcset=\"https://cdn.shopify.com/s/files/1/0156/6146/files/CrestHoodieBlack-A2A4G-BBBB-0299_82x.jpg?v=1686038823 82w, https://cdn.shopify.com/s/files/1/0156/6146/files/CrestHoodieBlack-A2A4G-BBBB-0299_110x.jpg?v=1686038823 110w, https://cdn.shopify.com/s/files/1/0156/6146/files/CrestHoodieBlack-A2A4G-BBBB-0299_140x.jpg?v=1686038823 140w, https://cdn.shopify.com/s/files/1/0156/6146/files/CrestHoodieBlack-A2A4G-BBBB-0299_640x.jpg?v=1686038823 640w, https://cdn.shopify.com/s/files/1/0156/6146/files/CrestHoodieBlack-A2A4G-BBBB-0299_750x.jpg?v=1686038823 750w, https://cdn.shopify.com/s/files/1/0156/6146/files/CrestHoodieBlack-A2A4G-BBBB-0299_828x.jpg?v=1686038823 828w, https://cdn.shopify.com/s/files/1/0156/6146/files/CrestHoodieBlack-A2A4G-BBBB-0299_1080x.jpg?v=1686038823 1080w, https://cdn.shopify.com/s/files/1/0156/6146/files/CrestHoodieBlack-A2A4G-BBBB-0299_1200x.jpg?v=1686038823 1200w, https://cdn.shopify.com/s/files/1/0156/6146/files/CrestHoodieBlack-A2A4G-BBBB-0299_1664x.jpg?v=1686038823 1664w, https://cdn.shopify.com/s/files/1/0156/6146/files/CrestHoodieBlack-A2A4G-BBBB-0299_1920x.jpg?v=1686038823 1920w, https://cdn.shopify.com/s/files/1/0156/6146/files/CrestHoodieBlack-A2A4G-BBBB-0299_2048x.jpg?v=1686038823 2048w, https://cdn.shopify.com/s/files/1/0156/6146/files/CrestHoodieBlack-A2A4G-BBBB-0299_2160x.jpg?v=1686038823 2160w, https://cdn.shopify.com/s/files/1/0156/6146/files/CrestHoodieBlack-A2A4G-BBBB-0299_2234x.jpg?v=1686038823 2234w, https://cdn.shopify.com/s/files/1/0156/6146/files/CrestHoodieBlack-A2A4G-BBBB-0299_3840x.jpg?v=1686038823 3840w\" style=\"position:absolute;height:100%;width:100%;left:0;top:0;right:0;bottom:0;color:transparent\"/>,\n",
       " <img alt=\"Crest Hoodie in Black - view 4\" data-key=\"3\" data-nimg=\"fill\" decoding=\"async\" loading=\"lazy\" sizes=\"100vw\" src=\"https://cdn.shopify.com/s/files/1/0156/6146/files/CrestHoodieBlack-A2A4G-BBBB-0331_3840x.jpg?v=1686038823\" srcset=\"https://cdn.shopify.com/s/files/1/0156/6146/files/CrestHoodieBlack-A2A4G-BBBB-0331_82x.jpg?v=1686038823 82w, https://cdn.shopify.com/s/files/1/0156/6146/files/CrestHoodieBlack-A2A4G-BBBB-0331_110x.jpg?v=1686038823 110w, https://cdn.shopify.com/s/files/1/0156/6146/files/CrestHoodieBlack-A2A4G-BBBB-0331_140x.jpg?v=1686038823 140w, https://cdn.shopify.com/s/files/1/0156/6146/files/CrestHoodieBlack-A2A4G-BBBB-0331_640x.jpg?v=1686038823 640w, https://cdn.shopify.com/s/files/1/0156/6146/files/CrestHoodieBlack-A2A4G-BBBB-0331_750x.jpg?v=1686038823 750w, https://cdn.shopify.com/s/files/1/0156/6146/files/CrestHoodieBlack-A2A4G-BBBB-0331_828x.jpg?v=1686038823 828w, https://cdn.shopify.com/s/files/1/0156/6146/files/CrestHoodieBlack-A2A4G-BBBB-0331_1080x.jpg?v=1686038823 1080w, https://cdn.shopify.com/s/files/1/0156/6146/files/CrestHoodieBlack-A2A4G-BBBB-0331_1200x.jpg?v=1686038823 1200w, https://cdn.shopify.com/s/files/1/0156/6146/files/CrestHoodieBlack-A2A4G-BBBB-0331_1664x.jpg?v=1686038823 1664w, https://cdn.shopify.com/s/files/1/0156/6146/files/CrestHoodieBlack-A2A4G-BBBB-0331_1920x.jpg?v=1686038823 1920w, https://cdn.shopify.com/s/files/1/0156/6146/files/CrestHoodieBlack-A2A4G-BBBB-0331_2048x.jpg?v=1686038823 2048w, https://cdn.shopify.com/s/files/1/0156/6146/files/CrestHoodieBlack-A2A4G-BBBB-0331_2160x.jpg?v=1686038823 2160w, https://cdn.shopify.com/s/files/1/0156/6146/files/CrestHoodieBlack-A2A4G-BBBB-0331_2234x.jpg?v=1686038823 2234w, https://cdn.shopify.com/s/files/1/0156/6146/files/CrestHoodieBlack-A2A4G-BBBB-0331_3840x.jpg?v=1686038823 3840w\" style=\"position:absolute;height:100%;width:100%;left:0;top:0;right:0;bottom:0;color:transparent\"/>,\n",
       " <img alt=\"Crest Hoodie in Black - view 5\" data-key=\"4\" data-nimg=\"fill\" decoding=\"async\" loading=\"lazy\" sizes=\"100vw\" src=\"https://cdn.shopify.com/s/files/1/0156/6146/files/CrestHoodieBlack-A2A4G-BBBB-0305_3840x.jpg?v=1686038824\" srcset=\"https://cdn.shopify.com/s/files/1/0156/6146/files/CrestHoodieBlack-A2A4G-BBBB-0305_82x.jpg?v=1686038824 82w, https://cdn.shopify.com/s/files/1/0156/6146/files/CrestHoodieBlack-A2A4G-BBBB-0305_110x.jpg?v=1686038824 110w, https://cdn.shopify.com/s/files/1/0156/6146/files/CrestHoodieBlack-A2A4G-BBBB-0305_140x.jpg?v=1686038824 140w, https://cdn.shopify.com/s/files/1/0156/6146/files/CrestHoodieBlack-A2A4G-BBBB-0305_640x.jpg?v=1686038824 640w, https://cdn.shopify.com/s/files/1/0156/6146/files/CrestHoodieBlack-A2A4G-BBBB-0305_750x.jpg?v=1686038824 750w, https://cdn.shopify.com/s/files/1/0156/6146/files/CrestHoodieBlack-A2A4G-BBBB-0305_828x.jpg?v=1686038824 828w, https://cdn.shopify.com/s/files/1/0156/6146/files/CrestHoodieBlack-A2A4G-BBBB-0305_1080x.jpg?v=1686038824 1080w, https://cdn.shopify.com/s/files/1/0156/6146/files/CrestHoodieBlack-A2A4G-BBBB-0305_1200x.jpg?v=1686038824 1200w, https://cdn.shopify.com/s/files/1/0156/6146/files/CrestHoodieBlack-A2A4G-BBBB-0305_1664x.jpg?v=1686038824 1664w, https://cdn.shopify.com/s/files/1/0156/6146/files/CrestHoodieBlack-A2A4G-BBBB-0305_1920x.jpg?v=1686038824 1920w, https://cdn.shopify.com/s/files/1/0156/6146/files/CrestHoodieBlack-A2A4G-BBBB-0305_2048x.jpg?v=1686038824 2048w, https://cdn.shopify.com/s/files/1/0156/6146/files/CrestHoodieBlack-A2A4G-BBBB-0305_2160x.jpg?v=1686038824 2160w, https://cdn.shopify.com/s/files/1/0156/6146/files/CrestHoodieBlack-A2A4G-BBBB-0305_2234x.jpg?v=1686038824 2234w, https://cdn.shopify.com/s/files/1/0156/6146/files/CrestHoodieBlack-A2A4G-BBBB-0305_3840x.jpg?v=1686038824 3840w\" style=\"position:absolute;height:100%;width:100%;left:0;top:0;right:0;bottom:0;color:transparent\"/>,\n",
       " <img alt=\"Crest Hoodie in Faded Blue\" data-nimg=\"fill\" decoding=\"async\" loading=\"lazy\" sizes=\"150px\" src=\"https://cdn.shopify.com/s/files/1/0156/6146/files/CrestHoodieGSFadedBlueA2A4G-UCMG1318_3840x.jpg?v=1707211967\" srcset=\"https://cdn.shopify.com/s/files/1/0156/6146/files/CrestHoodieGSFadedBlueA2A4G-UCMG1318_16x.jpg?v=1707211967 16w, https://cdn.shopify.com/s/files/1/0156/6146/files/CrestHoodieGSFadedBlueA2A4G-UCMG1318_32x.jpg?v=1707211967 32w, https://cdn.shopify.com/s/files/1/0156/6146/files/CrestHoodieGSFadedBlueA2A4G-UCMG1318_48x.jpg?v=1707211967 48w, https://cdn.shopify.com/s/files/1/0156/6146/files/CrestHoodieGSFadedBlueA2A4G-UCMG1318_64x.jpg?v=1707211967 64w, https://cdn.shopify.com/s/files/1/0156/6146/files/CrestHoodieGSFadedBlueA2A4G-UCMG1318_82x.jpg?v=1707211967 82w, https://cdn.shopify.com/s/files/1/0156/6146/files/CrestHoodieGSFadedBlueA2A4G-UCMG1318_96x.jpg?v=1707211967 96w, https://cdn.shopify.com/s/files/1/0156/6146/files/CrestHoodieGSFadedBlueA2A4G-UCMG1318_110x.jpg?v=1707211967 110w, https://cdn.shopify.com/s/files/1/0156/6146/files/CrestHoodieGSFadedBlueA2A4G-UCMG1318_128x.jpg?v=1707211967 128w, https://cdn.shopify.com/s/files/1/0156/6146/files/CrestHoodieGSFadedBlueA2A4G-UCMG1318_140x.jpg?v=1707211967 140w, https://cdn.shopify.com/s/files/1/0156/6146/files/CrestHoodieGSFadedBlueA2A4G-UCMG1318_256x.jpg?v=1707211967 256w, https://cdn.shopify.com/s/files/1/0156/6146/files/CrestHoodieGSFadedBlueA2A4G-UCMG1318_384x.jpg?v=1707211967 384w, https://cdn.shopify.com/s/files/1/0156/6146/files/CrestHoodieGSFadedBlueA2A4G-UCMG1318_640x.jpg?v=1707211967 640w, https://cdn.shopify.com/s/files/1/0156/6146/files/CrestHoodieGSFadedBlueA2A4G-UCMG1318_750x.jpg?v=1707211967 750w, https://cdn.shopify.com/s/files/1/0156/6146/files/CrestHoodieGSFadedBlueA2A4G-UCMG1318_828x.jpg?v=1707211967 828w, https://cdn.shopify.com/s/files/1/0156/6146/files/CrestHoodieGSFadedBlueA2A4G-UCMG1318_1080x.jpg?v=1707211967 1080w, https://cdn.shopify.com/s/files/1/0156/6146/files/CrestHoodieGSFadedBlueA2A4G-UCMG1318_1200x.jpg?v=1707211967 1200w, https://cdn.shopify.com/s/files/1/0156/6146/files/CrestHoodieGSFadedBlueA2A4G-UCMG1318_1664x.jpg?v=1707211967 1664w, https://cdn.shopify.com/s/files/1/0156/6146/files/CrestHoodieGSFadedBlueA2A4G-UCMG1318_1920x.jpg?v=1707211967 1920w, https://cdn.shopify.com/s/files/1/0156/6146/files/CrestHoodieGSFadedBlueA2A4G-UCMG1318_2048x.jpg?v=1707211967 2048w, https://cdn.shopify.com/s/files/1/0156/6146/files/CrestHoodieGSFadedBlueA2A4G-UCMG1318_2160x.jpg?v=1707211967 2160w, https://cdn.shopify.com/s/files/1/0156/6146/files/CrestHoodieGSFadedBlueA2A4G-UCMG1318_2234x.jpg?v=1707211967 2234w, https://cdn.shopify.com/s/files/1/0156/6146/files/CrestHoodieGSFadedBlueA2A4G-UCMG1318_3840x.jpg?v=1707211967 3840w\" style=\"position:absolute;height:100%;width:100%;left:0;top:0;right:0;bottom:0;color:transparent\"/>,\n",
       " <img alt=\"Crest Hoodie in Black\" data-nimg=\"fill\" decoding=\"async\" loading=\"lazy\" sizes=\"150px\" src=\"https://cdn.shopify.com/s/files/1/0156/6146/files/CrestHoodieBlack-A2A4G-BBBB-0290_3840x.jpg?v=1686038823\" srcset=\"https://cdn.shopify.com/s/files/1/0156/6146/files/CrestHoodieBlack-A2A4G-BBBB-0290_16x.jpg?v=1686038823 16w, https://cdn.shopify.com/s/files/1/0156/6146/files/CrestHoodieBlack-A2A4G-BBBB-0290_32x.jpg?v=1686038823 32w, https://cdn.shopify.com/s/files/1/0156/6146/files/CrestHoodieBlack-A2A4G-BBBB-0290_48x.jpg?v=1686038823 48w, https://cdn.shopify.com/s/files/1/0156/6146/files/CrestHoodieBlack-A2A4G-BBBB-0290_64x.jpg?v=1686038823 64w, https://cdn.shopify.com/s/files/1/0156/6146/files/CrestHoodieBlack-A2A4G-BBBB-0290_82x.jpg?v=1686038823 82w, https://cdn.shopify.com/s/files/1/0156/6146/files/CrestHoodieBlack-A2A4G-BBBB-0290_96x.jpg?v=1686038823 96w, https://cdn.shopify.com/s/files/1/0156/6146/files/CrestHoodieBlack-A2A4G-BBBB-0290_110x.jpg?v=1686038823 110w, https://cdn.shopify.com/s/files/1/0156/6146/files/CrestHoodieBlack-A2A4G-BBBB-0290_128x.jpg?v=1686038823 128w, https://cdn.shopify.com/s/files/1/0156/6146/files/CrestHoodieBlack-A2A4G-BBBB-0290_140x.jpg?v=1686038823 140w, https://cdn.shopify.com/s/files/1/0156/6146/files/CrestHoodieBlack-A2A4G-BBBB-0290_256x.jpg?v=1686038823 256w, https://cdn.shopify.com/s/files/1/0156/6146/files/CrestHoodieBlack-A2A4G-BBBB-0290_384x.jpg?v=1686038823 384w, https://cdn.shopify.com/s/files/1/0156/6146/files/CrestHoodieBlack-A2A4G-BBBB-0290_640x.jpg?v=1686038823 640w, https://cdn.shopify.com/s/files/1/0156/6146/files/CrestHoodieBlack-A2A4G-BBBB-0290_750x.jpg?v=1686038823 750w, https://cdn.shopify.com/s/files/1/0156/6146/files/CrestHoodieBlack-A2A4G-BBBB-0290_828x.jpg?v=1686038823 828w, https://cdn.shopify.com/s/files/1/0156/6146/files/CrestHoodieBlack-A2A4G-BBBB-0290_1080x.jpg?v=1686038823 1080w, https://cdn.shopify.com/s/files/1/0156/6146/files/CrestHoodieBlack-A2A4G-BBBB-0290_1200x.jpg?v=1686038823 1200w, https://cdn.shopify.com/s/files/1/0156/6146/files/CrestHoodieBlack-A2A4G-BBBB-0290_1664x.jpg?v=1686038823 1664w, https://cdn.shopify.com/s/files/1/0156/6146/files/CrestHoodieBlack-A2A4G-BBBB-0290_1920x.jpg?v=1686038823 1920w, https://cdn.shopify.com/s/files/1/0156/6146/files/CrestHoodieBlack-A2A4G-BBBB-0290_2048x.jpg?v=1686038823 2048w, https://cdn.shopify.com/s/files/1/0156/6146/files/CrestHoodieBlack-A2A4G-BBBB-0290_2160x.jpg?v=1686038823 2160w, https://cdn.shopify.com/s/files/1/0156/6146/files/CrestHoodieBlack-A2A4G-BBBB-0290_2234x.jpg?v=1686038823 2234w, https://cdn.shopify.com/s/files/1/0156/6146/files/CrestHoodieBlack-A2A4G-BBBB-0290_3840x.jpg?v=1686038823 3840w\" style=\"position:absolute;height:100%;width:100%;left:0;top:0;right:0;bottom:0;color:transparent\"/>,\n",
       " <img alt=\"Crest Hoodie in Natural Sage Green\" data-nimg=\"fill\" decoding=\"async\" loading=\"lazy\" sizes=\"150px\" src=\"https://cdn.shopify.com/s/files/1/0156/6146/files/CrestHoodieGSNaturalSageGreenA2A4G-ECJK1239_3840x.jpg?v=1705568068\" srcset=\"https://cdn.shopify.com/s/files/1/0156/6146/files/CrestHoodieGSNaturalSageGreenA2A4G-ECJK1239_16x.jpg?v=1705568068 16w, https://cdn.shopify.com/s/files/1/0156/6146/files/CrestHoodieGSNaturalSageGreenA2A4G-ECJK1239_32x.jpg?v=1705568068 32w, https://cdn.shopify.com/s/files/1/0156/6146/files/CrestHoodieGSNaturalSageGreenA2A4G-ECJK1239_48x.jpg?v=1705568068 48w, https://cdn.shopify.com/s/files/1/0156/6146/files/CrestHoodieGSNaturalSageGreenA2A4G-ECJK1239_64x.jpg?v=1705568068 64w, https://cdn.shopify.com/s/files/1/0156/6146/files/CrestHoodieGSNaturalSageGreenA2A4G-ECJK1239_82x.jpg?v=1705568068 82w, https://cdn.shopify.com/s/files/1/0156/6146/files/CrestHoodieGSNaturalSageGreenA2A4G-ECJK1239_96x.jpg?v=1705568068 96w, https://cdn.shopify.com/s/files/1/0156/6146/files/CrestHoodieGSNaturalSageGreenA2A4G-ECJK1239_110x.jpg?v=1705568068 110w, https://cdn.shopify.com/s/files/1/0156/6146/files/CrestHoodieGSNaturalSageGreenA2A4G-ECJK1239_128x.jpg?v=1705568068 128w, https://cdn.shopify.com/s/files/1/0156/6146/files/CrestHoodieGSNaturalSageGreenA2A4G-ECJK1239_140x.jpg?v=1705568068 140w, https://cdn.shopify.com/s/files/1/0156/6146/files/CrestHoodieGSNaturalSageGreenA2A4G-ECJK1239_256x.jpg?v=1705568068 256w, https://cdn.shopify.com/s/files/1/0156/6146/files/CrestHoodieGSNaturalSageGreenA2A4G-ECJK1239_384x.jpg?v=1705568068 384w, https://cdn.shopify.com/s/files/1/0156/6146/files/CrestHoodieGSNaturalSageGreenA2A4G-ECJK1239_640x.jpg?v=1705568068 640w, https://cdn.shopify.com/s/files/1/0156/6146/files/CrestHoodieGSNaturalSageGreenA2A4G-ECJK1239_750x.jpg?v=1705568068 750w, https://cdn.shopify.com/s/files/1/0156/6146/files/CrestHoodieGSNaturalSageGreenA2A4G-ECJK1239_828x.jpg?v=1705568068 828w, https://cdn.shopify.com/s/files/1/0156/6146/files/CrestHoodieGSNaturalSageGreenA2A4G-ECJK1239_1080x.jpg?v=1705568068 1080w, https://cdn.shopify.com/s/files/1/0156/6146/files/CrestHoodieGSNaturalSageGreenA2A4G-ECJK1239_1200x.jpg?v=1705568068 1200w, https://cdn.shopify.com/s/files/1/0156/6146/files/CrestHoodieGSNaturalSageGreenA2A4G-ECJK1239_1664x.jpg?v=1705568068 1664w, https://cdn.shopify.com/s/files/1/0156/6146/files/CrestHoodieGSNaturalSageGreenA2A4G-ECJK1239_1920x.jpg?v=1705568068 1920w, https://cdn.shopify.com/s/files/1/0156/6146/files/CrestHoodieGSNaturalSageGreenA2A4G-ECJK1239_2048x.jpg?v=1705568068 2048w, https://cdn.shopify.com/s/files/1/0156/6146/files/CrestHoodieGSNaturalSageGreenA2A4G-ECJK1239_2160x.jpg?v=1705568068 2160w, https://cdn.shopify.com/s/files/1/0156/6146/files/CrestHoodieGSNaturalSageGreenA2A4G-ECJK1239_2234x.jpg?v=1705568068 2234w, https://cdn.shopify.com/s/files/1/0156/6146/files/CrestHoodieGSNaturalSageGreenA2A4G-ECJK1239_3840x.jpg?v=1705568068 3840w\" style=\"position:absolute;height:100%;width:100%;left:0;top:0;right:0;bottom:0;color:transparent\"/>,\n",
       " <img alt=\"Crest Hoodie in Navy\" data-nimg=\"fill\" decoding=\"async\" loading=\"lazy\" sizes=\"150px\" src=\"https://cdn.shopify.com/s/files/1/0156/6146/products/CrestHoodieNavyA1A1K13.A-EditTIFF_IS_82e58378-c595-4852-818f-7d5cfa675046_3840x.jpg?v=1644314102\" srcset=\"https://cdn.shopify.com/s/files/1/0156/6146/products/CrestHoodieNavyA1A1K13.A-EditTIFF_IS_82e58378-c595-4852-818f-7d5cfa675046_16x.jpg?v=1644314102 16w, https://cdn.shopify.com/s/files/1/0156/6146/products/CrestHoodieNavyA1A1K13.A-EditTIFF_IS_82e58378-c595-4852-818f-7d5cfa675046_32x.jpg?v=1644314102 32w, https://cdn.shopify.com/s/files/1/0156/6146/products/CrestHoodieNavyA1A1K13.A-EditTIFF_IS_82e58378-c595-4852-818f-7d5cfa675046_48x.jpg?v=1644314102 48w, https://cdn.shopify.com/s/files/1/0156/6146/products/CrestHoodieNavyA1A1K13.A-EditTIFF_IS_82e58378-c595-4852-818f-7d5cfa675046_64x.jpg?v=1644314102 64w, https://cdn.shopify.com/s/files/1/0156/6146/products/CrestHoodieNavyA1A1K13.A-EditTIFF_IS_82e58378-c595-4852-818f-7d5cfa675046_82x.jpg?v=1644314102 82w, https://cdn.shopify.com/s/files/1/0156/6146/products/CrestHoodieNavyA1A1K13.A-EditTIFF_IS_82e58378-c595-4852-818f-7d5cfa675046_96x.jpg?v=1644314102 96w, https://cdn.shopify.com/s/files/1/0156/6146/products/CrestHoodieNavyA1A1K13.A-EditTIFF_IS_82e58378-c595-4852-818f-7d5cfa675046_110x.jpg?v=1644314102 110w, https://cdn.shopify.com/s/files/1/0156/6146/products/CrestHoodieNavyA1A1K13.A-EditTIFF_IS_82e58378-c595-4852-818f-7d5cfa675046_128x.jpg?v=1644314102 128w, https://cdn.shopify.com/s/files/1/0156/6146/products/CrestHoodieNavyA1A1K13.A-EditTIFF_IS_82e58378-c595-4852-818f-7d5cfa675046_140x.jpg?v=1644314102 140w, https://cdn.shopify.com/s/files/1/0156/6146/products/CrestHoodieNavyA1A1K13.A-EditTIFF_IS_82e58378-c595-4852-818f-7d5cfa675046_256x.jpg?v=1644314102 256w, https://cdn.shopify.com/s/files/1/0156/6146/products/CrestHoodieNavyA1A1K13.A-EditTIFF_IS_82e58378-c595-4852-818f-7d5cfa675046_384x.jpg?v=1644314102 384w, https://cdn.shopify.com/s/files/1/0156/6146/products/CrestHoodieNavyA1A1K13.A-EditTIFF_IS_82e58378-c595-4852-818f-7d5cfa675046_640x.jpg?v=1644314102 640w, https://cdn.shopify.com/s/files/1/0156/6146/products/CrestHoodieNavyA1A1K13.A-EditTIFF_IS_82e58378-c595-4852-818f-7d5cfa675046_750x.jpg?v=1644314102 750w, https://cdn.shopify.com/s/files/1/0156/6146/products/CrestHoodieNavyA1A1K13.A-EditTIFF_IS_82e58378-c595-4852-818f-7d5cfa675046_828x.jpg?v=1644314102 828w, https://cdn.shopify.com/s/files/1/0156/6146/products/CrestHoodieNavyA1A1K13.A-EditTIFF_IS_82e58378-c595-4852-818f-7d5cfa675046_1080x.jpg?v=1644314102 1080w, https://cdn.shopify.com/s/files/1/0156/6146/products/CrestHoodieNavyA1A1K13.A-EditTIFF_IS_82e58378-c595-4852-818f-7d5cfa675046_1200x.jpg?v=1644314102 1200w, https://cdn.shopify.com/s/files/1/0156/6146/products/CrestHoodieNavyA1A1K13.A-EditTIFF_IS_82e58378-c595-4852-818f-7d5cfa675046_1664x.jpg?v=1644314102 1664w, https://cdn.shopify.com/s/files/1/0156/6146/products/CrestHoodieNavyA1A1K13.A-EditTIFF_IS_82e58378-c595-4852-818f-7d5cfa675046_1920x.jpg?v=1644314102 1920w, https://cdn.shopify.com/s/files/1/0156/6146/products/CrestHoodieNavyA1A1K13.A-EditTIFF_IS_82e58378-c595-4852-818f-7d5cfa675046_2048x.jpg?v=1644314102 2048w, https://cdn.shopify.com/s/files/1/0156/6146/products/CrestHoodieNavyA1A1K13.A-EditTIFF_IS_82e58378-c595-4852-818f-7d5cfa675046_2160x.jpg?v=1644314102 2160w, https://cdn.shopify.com/s/files/1/0156/6146/products/CrestHoodieNavyA1A1K13.A-EditTIFF_IS_82e58378-c595-4852-818f-7d5cfa675046_2234x.jpg?v=1644314102 2234w, https://cdn.shopify.com/s/files/1/0156/6146/products/CrestHoodieNavyA1A1K13.A-EditTIFF_IS_82e58378-c595-4852-818f-7d5cfa675046_3840x.jpg?v=1644314102 3840w\" style=\"position:absolute;height:100%;width:100%;left:0;top:0;right:0;bottom:0;color:transparent\"/>,\n",
       " <img alt=\"Crest Hoodie in Light Grey Marl\" data-nimg=\"fill\" decoding=\"async\" loading=\"lazy\" sizes=\"150px\" src=\"https://cdn.shopify.com/s/files/1/0156/6146/products/CrestHoodieM_Slim_LightGreyCoreMarlA2A4G-GBCN.A_ZH_ZH_98f85b8a-b977-43e3-b70a-5192c8b1745e_3840x.jpg?v=1662989967\" srcset=\"https://cdn.shopify.com/s/files/1/0156/6146/products/CrestHoodieM_Slim_LightGreyCoreMarlA2A4G-GBCN.A_ZH_ZH_98f85b8a-b977-43e3-b70a-5192c8b1745e_16x.jpg?v=1662989967 16w, https://cdn.shopify.com/s/files/1/0156/6146/products/CrestHoodieM_Slim_LightGreyCoreMarlA2A4G-GBCN.A_ZH_ZH_98f85b8a-b977-43e3-b70a-5192c8b1745e_32x.jpg?v=1662989967 32w, https://cdn.shopify.com/s/files/1/0156/6146/products/CrestHoodieM_Slim_LightGreyCoreMarlA2A4G-GBCN.A_ZH_ZH_98f85b8a-b977-43e3-b70a-5192c8b1745e_48x.jpg?v=1662989967 48w, https://cdn.shopify.com/s/files/1/0156/6146/products/CrestHoodieM_Slim_LightGreyCoreMarlA2A4G-GBCN.A_ZH_ZH_98f85b8a-b977-43e3-b70a-5192c8b1745e_64x.jpg?v=1662989967 64w, https://cdn.shopify.com/s/files/1/0156/6146/products/CrestHoodieM_Slim_LightGreyCoreMarlA2A4G-GBCN.A_ZH_ZH_98f85b8a-b977-43e3-b70a-5192c8b1745e_82x.jpg?v=1662989967 82w, https://cdn.shopify.com/s/files/1/0156/6146/products/CrestHoodieM_Slim_LightGreyCoreMarlA2A4G-GBCN.A_ZH_ZH_98f85b8a-b977-43e3-b70a-5192c8b1745e_96x.jpg?v=1662989967 96w, https://cdn.shopify.com/s/files/1/0156/6146/products/CrestHoodieM_Slim_LightGreyCoreMarlA2A4G-GBCN.A_ZH_ZH_98f85b8a-b977-43e3-b70a-5192c8b1745e_110x.jpg?v=1662989967 110w, https://cdn.shopify.com/s/files/1/0156/6146/products/CrestHoodieM_Slim_LightGreyCoreMarlA2A4G-GBCN.A_ZH_ZH_98f85b8a-b977-43e3-b70a-5192c8b1745e_128x.jpg?v=1662989967 128w, https://cdn.shopify.com/s/files/1/0156/6146/products/CrestHoodieM_Slim_LightGreyCoreMarlA2A4G-GBCN.A_ZH_ZH_98f85b8a-b977-43e3-b70a-5192c8b1745e_140x.jpg?v=1662989967 140w, https://cdn.shopify.com/s/files/1/0156/6146/products/CrestHoodieM_Slim_LightGreyCoreMarlA2A4G-GBCN.A_ZH_ZH_98f85b8a-b977-43e3-b70a-5192c8b1745e_256x.jpg?v=1662989967 256w, https://cdn.shopify.com/s/files/1/0156/6146/products/CrestHoodieM_Slim_LightGreyCoreMarlA2A4G-GBCN.A_ZH_ZH_98f85b8a-b977-43e3-b70a-5192c8b1745e_384x.jpg?v=1662989967 384w, https://cdn.shopify.com/s/files/1/0156/6146/products/CrestHoodieM_Slim_LightGreyCoreMarlA2A4G-GBCN.A_ZH_ZH_98f85b8a-b977-43e3-b70a-5192c8b1745e_640x.jpg?v=1662989967 640w, https://cdn.shopify.com/s/files/1/0156/6146/products/CrestHoodieM_Slim_LightGreyCoreMarlA2A4G-GBCN.A_ZH_ZH_98f85b8a-b977-43e3-b70a-5192c8b1745e_750x.jpg?v=1662989967 750w, https://cdn.shopify.com/s/files/1/0156/6146/products/CrestHoodieM_Slim_LightGreyCoreMarlA2A4G-GBCN.A_ZH_ZH_98f85b8a-b977-43e3-b70a-5192c8b1745e_828x.jpg?v=1662989967 828w, https://cdn.shopify.com/s/files/1/0156/6146/products/CrestHoodieM_Slim_LightGreyCoreMarlA2A4G-GBCN.A_ZH_ZH_98f85b8a-b977-43e3-b70a-5192c8b1745e_1080x.jpg?v=1662989967 1080w, https://cdn.shopify.com/s/files/1/0156/6146/products/CrestHoodieM_Slim_LightGreyCoreMarlA2A4G-GBCN.A_ZH_ZH_98f85b8a-b977-43e3-b70a-5192c8b1745e_1200x.jpg?v=1662989967 1200w, https://cdn.shopify.com/s/files/1/0156/6146/products/CrestHoodieM_Slim_LightGreyCoreMarlA2A4G-GBCN.A_ZH_ZH_98f85b8a-b977-43e3-b70a-5192c8b1745e_1664x.jpg?v=1662989967 1664w, https://cdn.shopify.com/s/files/1/0156/6146/products/CrestHoodieM_Slim_LightGreyCoreMarlA2A4G-GBCN.A_ZH_ZH_98f85b8a-b977-43e3-b70a-5192c8b1745e_1920x.jpg?v=1662989967 1920w, https://cdn.shopify.com/s/files/1/0156/6146/products/CrestHoodieM_Slim_LightGreyCoreMarlA2A4G-GBCN.A_ZH_ZH_98f85b8a-b977-43e3-b70a-5192c8b1745e_2048x.jpg?v=1662989967 2048w, https://cdn.shopify.com/s/files/1/0156/6146/products/CrestHoodieM_Slim_LightGreyCoreMarlA2A4G-GBCN.A_ZH_ZH_98f85b8a-b977-43e3-b70a-5192c8b1745e_2160x.jpg?v=1662989967 2160w, https://cdn.shopify.com/s/files/1/0156/6146/products/CrestHoodieM_Slim_LightGreyCoreMarlA2A4G-GBCN.A_ZH_ZH_98f85b8a-b977-43e3-b70a-5192c8b1745e_2234x.jpg?v=1662989967 2234w, https://cdn.shopify.com/s/files/1/0156/6146/products/CrestHoodieM_Slim_LightGreyCoreMarlA2A4G-GBCN.A_ZH_ZH_98f85b8a-b977-43e3-b70a-5192c8b1745e_3840x.jpg?v=1662989967 3840w\" style=\"position:absolute;height:100%;width:100%;left:0;top:0;right:0;bottom:0;color:transparent\"/>,\n",
       " <img alt=\"Crest Hoodie in Core Olive\" data-nimg=\"fill\" decoding=\"async\" loading=\"lazy\" sizes=\"150px\" src=\"https://cdn.shopify.com/s/files/1/0156/6146/products/CrestHoodieM_Slim_CoreOliveA2A4G-EBF1.A_ZH_ZH_3840x.jpg?v=1644314102\" srcset=\"https://cdn.shopify.com/s/files/1/0156/6146/products/CrestHoodieM_Slim_CoreOliveA2A4G-EBF1.A_ZH_ZH_16x.jpg?v=1644314102 16w, https://cdn.shopify.com/s/files/1/0156/6146/products/CrestHoodieM_Slim_CoreOliveA2A4G-EBF1.A_ZH_ZH_32x.jpg?v=1644314102 32w, https://cdn.shopify.com/s/files/1/0156/6146/products/CrestHoodieM_Slim_CoreOliveA2A4G-EBF1.A_ZH_ZH_48x.jpg?v=1644314102 48w, https://cdn.shopify.com/s/files/1/0156/6146/products/CrestHoodieM_Slim_CoreOliveA2A4G-EBF1.A_ZH_ZH_64x.jpg?v=1644314102 64w, https://cdn.shopify.com/s/files/1/0156/6146/products/CrestHoodieM_Slim_CoreOliveA2A4G-EBF1.A_ZH_ZH_82x.jpg?v=1644314102 82w, https://cdn.shopify.com/s/files/1/0156/6146/products/CrestHoodieM_Slim_CoreOliveA2A4G-EBF1.A_ZH_ZH_96x.jpg?v=1644314102 96w, https://cdn.shopify.com/s/files/1/0156/6146/products/CrestHoodieM_Slim_CoreOliveA2A4G-EBF1.A_ZH_ZH_110x.jpg?v=1644314102 110w, https://cdn.shopify.com/s/files/1/0156/6146/products/CrestHoodieM_Slim_CoreOliveA2A4G-EBF1.A_ZH_ZH_128x.jpg?v=1644314102 128w, https://cdn.shopify.com/s/files/1/0156/6146/products/CrestHoodieM_Slim_CoreOliveA2A4G-EBF1.A_ZH_ZH_140x.jpg?v=1644314102 140w, https://cdn.shopify.com/s/files/1/0156/6146/products/CrestHoodieM_Slim_CoreOliveA2A4G-EBF1.A_ZH_ZH_256x.jpg?v=1644314102 256w, https://cdn.shopify.com/s/files/1/0156/6146/products/CrestHoodieM_Slim_CoreOliveA2A4G-EBF1.A_ZH_ZH_384x.jpg?v=1644314102 384w, https://cdn.shopify.com/s/files/1/0156/6146/products/CrestHoodieM_Slim_CoreOliveA2A4G-EBF1.A_ZH_ZH_640x.jpg?v=1644314102 640w, https://cdn.shopify.com/s/files/1/0156/6146/products/CrestHoodieM_Slim_CoreOliveA2A4G-EBF1.A_ZH_ZH_750x.jpg?v=1644314102 750w, https://cdn.shopify.com/s/files/1/0156/6146/products/CrestHoodieM_Slim_CoreOliveA2A4G-EBF1.A_ZH_ZH_828x.jpg?v=1644314102 828w, https://cdn.shopify.com/s/files/1/0156/6146/products/CrestHoodieM_Slim_CoreOliveA2A4G-EBF1.A_ZH_ZH_1080x.jpg?v=1644314102 1080w, https://cdn.shopify.com/s/files/1/0156/6146/products/CrestHoodieM_Slim_CoreOliveA2A4G-EBF1.A_ZH_ZH_1200x.jpg?v=1644314102 1200w, https://cdn.shopify.com/s/files/1/0156/6146/products/CrestHoodieM_Slim_CoreOliveA2A4G-EBF1.A_ZH_ZH_1664x.jpg?v=1644314102 1664w, https://cdn.shopify.com/s/files/1/0156/6146/products/CrestHoodieM_Slim_CoreOliveA2A4G-EBF1.A_ZH_ZH_1920x.jpg?v=1644314102 1920w, https://cdn.shopify.com/s/files/1/0156/6146/products/CrestHoodieM_Slim_CoreOliveA2A4G-EBF1.A_ZH_ZH_2048x.jpg?v=1644314102 2048w, https://cdn.shopify.com/s/files/1/0156/6146/products/CrestHoodieM_Slim_CoreOliveA2A4G-EBF1.A_ZH_ZH_2160x.jpg?v=1644314102 2160w, https://cdn.shopify.com/s/files/1/0156/6146/products/CrestHoodieM_Slim_CoreOliveA2A4G-EBF1.A_ZH_ZH_2234x.jpg?v=1644314102 2234w, https://cdn.shopify.com/s/files/1/0156/6146/products/CrestHoodieM_Slim_CoreOliveA2A4G-EBF1.A_ZH_ZH_3840x.jpg?v=1644314102 3840w\" style=\"position:absolute;height:100%;width:100%;left:0;top:0;right:0;bottom:0;color:transparent\"/>]"
      ]
     },
     "execution_count": 18,
     "metadata": {},
     "output_type": "execute_result"
    }
   ],
   "source": [
    "soup.select(f'img[alt*=\"{title.text} in \"]')"
   ]
  },
  {
   "cell_type": "code",
   "execution_count": 20,
   "id": "613e7009",
   "metadata": {},
   "outputs": [
    {
     "data": {
      "text/plain": [
       "<button class=\"button_button__6GmNk button_button--primary-pdp-test__KX9eY\" data-locator-id=\"pdp-addToBag-submit\" type=\"button\">Add to bag<span class=\"button_loading-overlay__uvQ6f undefined\" role=\"presentation\"><span><i class=\"icon-spinner\"></i></span></span><span class=\"button_success-overlay__aqLb7 false\" role=\"presentation\"><span><i class=\"icon-tick\"></i></span></span></button>"
      ]
     },
     "execution_count": 20,
     "metadata": {},
     "output_type": "execute_result"
    }
   ],
   "source": [
    "soup.select_one('button:-soup-contains(\"Add to bag\")')"
   ]
  },
  {
   "cell_type": "code",
   "execution_count": 37,
   "id": "c24cec0c",
   "metadata": {},
   "outputs": [],
   "source": [
    "sizes = soup.select('div[class=\"add-to-cart_sizes__MFqYI\"] button')"
   ]
  },
  {
   "cell_type": "code",
   "execution_count": 38,
   "id": "0d3e2357",
   "metadata": {},
   "outputs": [],
   "source": [
    "sizes = soup.select('button[data-locator-id*=\"pdp-size\"]')"
   ]
  },
  {
   "cell_type": "code",
   "execution_count": 39,
   "id": "29e59e58",
   "metadata": {},
   "outputs": [
    {
     "name": "stdout",
     "output_type": "stream",
     "text": [
      "[<button class=\"size-guide_size-guide__X7iOf\" data-locator-id=\"pdp-sizeGuideButton-select\"><span>Size Guide</span></button>, <button class=\"size_size__saJiQ size_size--will-restock__ogkg_\" data-locator-id=\"pdp-size-xs-select\" type=\"button\">xs</button>, <button class=\"size_size__saJiQ size_size--will-restock__ogkg_\" data-locator-id=\"pdp-size-s-select\" type=\"button\">s</button>, <button class=\"size_size__saJiQ size_size--will-restock__ogkg_\" data-locator-id=\"pdp-size-m-select\" type=\"button\">m</button>, <button class=\"size_size__saJiQ size_size--will-restock__ogkg_\" data-locator-id=\"pdp-size-l-select\" type=\"button\">l</button>, <button class=\"size_size__saJiQ size_size--will-restock__ogkg_\" data-locator-id=\"pdp-size-xl-select\" type=\"button\">xl</button>, <button class=\"size_size__saJiQ size_size--will-restock__ogkg_\" data-locator-id=\"pdp-size-xxl-select\" type=\"button\">xxl</button>, <button class=\"size_size__saJiQ size_size--will-restock__ogkg_\" data-locator-id=\"pdp-size-3xl-select\" type=\"button\">3xl</button>]\n"
     ]
    }
   ],
   "source": [
    "print(sizes)"
   ]
  },
  {
   "cell_type": "code",
   "execution_count": null,
   "id": "1dc61c99",
   "metadata": {},
   "outputs": [],
   "source": []
  }
 ],
 "metadata": {
  "kernelspec": {
   "display_name": "Python 3 (ipykernel)",
   "language": "python",
   "name": "python3"
  },
  "language_info": {
   "codemirror_mode": {
    "name": "ipython",
    "version": 3
   },
   "file_extension": ".py",
   "mimetype": "text/x-python",
   "name": "python",
   "nbconvert_exporter": "python",
   "pygments_lexer": "ipython3",
   "version": "3.11.5"
  }
 },
 "nbformat": 4,
 "nbformat_minor": 5
}
