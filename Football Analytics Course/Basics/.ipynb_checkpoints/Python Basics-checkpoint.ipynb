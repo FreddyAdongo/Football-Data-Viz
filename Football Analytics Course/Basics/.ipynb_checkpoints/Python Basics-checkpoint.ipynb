{
 "cells": [
  {
   "cell_type": "code",
   "execution_count": 2,
   "id": "3bca30a4",
   "metadata": {},
   "outputs": [],
   "source": [
    "x = \"length\""
   ]
  },
  {
   "cell_type": "code",
   "execution_count": 3,
   "id": "2b3cd306",
   "metadata": {},
   "outputs": [
    {
     "data": {
      "text/plain": [
       "'length'"
      ]
     },
     "execution_count": 3,
     "metadata": {},
     "output_type": "execute_result"
    }
   ],
   "source": [
    "x[0:6]"
   ]
  },
  {
   "cell_type": "code",
   "execution_count": 4,
   "id": "0d284bc5",
   "metadata": {},
   "outputs": [
    {
     "name": "stdout",
     "output_type": "stream",
     "text": [
      "False\n"
     ]
    }
   ],
   "source": [
    "print('lengf' in x)"
   ]
  },
  {
   "cell_type": "code",
   "execution_count": 5,
   "id": "c08a511b",
   "metadata": {},
   "outputs": [],
   "source": [
    "y = \"isnt\""
   ]
  },
  {
   "cell_type": "code",
   "execution_count": 6,
   "id": "2377e06e",
   "metadata": {},
   "outputs": [],
   "source": [
    "sentence = x + \" \" + y"
   ]
  },
  {
   "cell_type": "code",
   "execution_count": 7,
   "id": "7ff6b622",
   "metadata": {},
   "outputs": [
    {
     "data": {
      "text/plain": [
       "'length isnt'"
      ]
     },
     "execution_count": 7,
     "metadata": {},
     "output_type": "execute_result"
    }
   ],
   "source": [
    "sentence"
   ]
  },
  {
   "cell_type": "code",
   "execution_count": 8,
   "id": "132b443f",
   "metadata": {},
   "outputs": [
    {
     "data": {
      "text/plain": [
       "['length', 'isnt']"
      ]
     },
     "execution_count": 8,
     "metadata": {},
     "output_type": "execute_result"
    }
   ],
   "source": [
    "sentence.split()"
   ]
  },
  {
   "cell_type": "code",
   "execution_count": 9,
   "id": "59657508",
   "metadata": {},
   "outputs": [
    {
     "name": "stdout",
     "output_type": "stream",
     "text": [
      "['foot', 'hand', 'finger', 'lung']\n"
     ]
    }
   ],
   "source": [
    "p = [\"foot\", \"hand\", \"finger\", \"lung\"]\n",
    "print(p)"
   ]
  },
  {
   "cell_type": "code",
   "execution_count": 10,
   "id": "c1b5dc6e",
   "metadata": {},
   "outputs": [
    {
     "data": {
      "text/plain": [
       "4"
      ]
     },
     "execution_count": 10,
     "metadata": {},
     "output_type": "execute_result"
    }
   ],
   "source": [
    "len(p)"
   ]
  },
  {
   "cell_type": "code",
   "execution_count": 11,
   "id": "0f7e78f3",
   "metadata": {},
   "outputs": [],
   "source": [
    "p = [\"foot\", \"hand\", \"finger\", \"lung\", 100, 2.5]"
   ]
  },
  {
   "cell_type": "code",
   "execution_count": 12,
   "id": "c073b9d1",
   "metadata": {},
   "outputs": [
    {
     "data": {
      "text/plain": [
       "['foot', 'hand', 'finger', 'lung', 100, 2.5]"
      ]
     },
     "execution_count": 12,
     "metadata": {},
     "output_type": "execute_result"
    }
   ],
   "source": [
    "p"
   ]
  },
  {
   "cell_type": "code",
   "execution_count": 13,
   "id": "58ef826f",
   "metadata": {},
   "outputs": [
    {
     "data": {
      "text/plain": [
       "6"
      ]
     },
     "execution_count": 13,
     "metadata": {},
     "output_type": "execute_result"
    }
   ],
   "source": [
    "len(p)"
   ]
  },
  {
   "cell_type": "code",
   "execution_count": 14,
   "id": "5f864f45",
   "metadata": {},
   "outputs": [
    {
     "name": "stdout",
     "output_type": "stream",
     "text": [
      "2.5\n"
     ]
    }
   ],
   "source": [
    "print(p[5])"
   ]
  },
  {
   "cell_type": "code",
   "execution_count": 15,
   "id": "2d637db3",
   "metadata": {},
   "outputs": [
    {
     "name": "stdout",
     "output_type": "stream",
     "text": [
      "100\n"
     ]
    }
   ],
   "source": [
    "print(p[-2]) #returns 100"
   ]
  },
  {
   "cell_type": "code",
   "execution_count": 16,
   "id": "a3c22daa",
   "metadata": {},
   "outputs": [
    {
     "data": {
      "text/plain": [
       "['foot', 'hand']"
      ]
     },
     "execution_count": 16,
     "metadata": {},
     "output_type": "execute_result"
    }
   ],
   "source": [
    "p[0:2]"
   ]
  },
  {
   "cell_type": "code",
   "execution_count": 17,
   "id": "fcb1ba4b",
   "metadata": {},
   "outputs": [
    {
     "name": "stdout",
     "output_type": "stream",
     "text": [
      "True\n"
     ]
    }
   ],
   "source": [
    "print(100 in p)"
   ]
  },
  {
   "cell_type": "code",
   "execution_count": 18,
   "id": "fdbbf35a",
   "metadata": {},
   "outputs": [
    {
     "name": "stdout",
     "output_type": "stream",
     "text": [
      "False\n"
     ]
    }
   ],
   "source": [
    "print(4000 in p)"
   ]
  },
  {
   "cell_type": "code",
   "execution_count": 19,
   "id": "2cf4226e",
   "metadata": {},
   "outputs": [],
   "source": [
    "p.insert(4, \"feet\")"
   ]
  },
  {
   "cell_type": "code",
   "execution_count": 20,
   "id": "047b8869",
   "metadata": {},
   "outputs": [
    {
     "data": {
      "text/plain": [
       "['foot', 'hand', 'finger', 'lung', 'feet', 100, 2.5]"
      ]
     },
     "execution_count": 20,
     "metadata": {},
     "output_type": "execute_result"
    }
   ],
   "source": [
    "p"
   ]
  },
  {
   "cell_type": "code",
   "execution_count": 21,
   "id": "e2961030",
   "metadata": {},
   "outputs": [],
   "source": [
    "p.remove('feet')"
   ]
  },
  {
   "cell_type": "code",
   "execution_count": 22,
   "id": "6146ef77",
   "metadata": {},
   "outputs": [
    {
     "data": {
      "text/plain": [
       "['foot', 'hand', 'finger', 'lung', 100, 2.5]"
      ]
     },
     "execution_count": 22,
     "metadata": {},
     "output_type": "execute_result"
    }
   ],
   "source": [
    "p"
   ]
  },
  {
   "cell_type": "code",
   "execution_count": 23,
   "id": "182cfcaf",
   "metadata": {},
   "outputs": [
    {
     "data": {
      "text/plain": [
       "'finger'"
      ]
     },
     "execution_count": 23,
     "metadata": {},
     "output_type": "execute_result"
    }
   ],
   "source": [
    "p.pop(2)"
   ]
  },
  {
   "cell_type": "code",
   "execution_count": 24,
   "id": "9fb4478e",
   "metadata": {},
   "outputs": [
    {
     "data": {
      "text/plain": [
       "['foot', 'hand', 'lung', 100, 2.5]"
      ]
     },
     "execution_count": 24,
     "metadata": {},
     "output_type": "execute_result"
    }
   ],
   "source": [
    "p"
   ]
  },
  {
   "cell_type": "code",
   "execution_count": 25,
   "id": "ca812db2",
   "metadata": {},
   "outputs": [
    {
     "name": "stdout",
     "output_type": "stream",
     "text": [
      "1\n",
      "2\n",
      "3\n",
      "4\n",
      "6\n"
     ]
    }
   ],
   "source": [
    "for p in [1, 2, 3, 4, 6]:\n",
    "    print(p)"
   ]
  },
  {
   "cell_type": "code",
   "execution_count": 26,
   "id": "c2dfc588",
   "metadata": {},
   "outputs": [
    {
     "name": "stdout",
     "output_type": "stream",
     "text": [
      "Player: Neymar\n",
      "Player: Pogba\n",
      "Player: Beckham\n"
     ]
    }
   ],
   "source": [
    "x = ['Neymar', 'Pogba', 'Beckham']\n",
    "for number in x:\n",
    "    print(f'Player: {number}')"
   ]
  },
  {
   "cell_type": "code",
   "execution_count": 27,
   "id": "7bfd7b6a",
   "metadata": {},
   "outputs": [
    {
     "name": "stdout",
     "output_type": "stream",
     "text": [
      "(1, 2, 3, 4, 5)\n"
     ]
    }
   ],
   "source": [
    "x = (1,2,3,4,5)\n",
    "print(x)"
   ]
  },
  {
   "cell_type": "code",
   "execution_count": 28,
   "id": "adf2cb0b",
   "metadata": {},
   "outputs": [
    {
     "data": {
      "text/plain": [
       "tuple"
      ]
     },
     "execution_count": 28,
     "metadata": {},
     "output_type": "execute_result"
    }
   ],
   "source": [
    "type(x)"
   ]
  },
  {
   "cell_type": "code",
   "execution_count": 29,
   "id": "ab2576d0",
   "metadata": {},
   "outputs": [
    {
     "data": {
      "text/plain": [
       "3"
      ]
     },
     "execution_count": 29,
     "metadata": {},
     "output_type": "execute_result"
    }
   ],
   "source": [
    "x[2]"
   ]
  },
  {
   "cell_type": "code",
   "execution_count": 30,
   "id": "9e315e98",
   "metadata": {},
   "outputs": [],
   "source": [
    "#dictionaries\n",
    "x = {\n",
    "    \"key1\": \"value1\",\n",
    "    \"key2\": \"value2\"\n",
    "}"
   ]
  },
  {
   "cell_type": "code",
   "execution_count": 31,
   "id": "c2ab3101",
   "metadata": {},
   "outputs": [
    {
     "data": {
      "text/plain": [
       "'value1'"
      ]
     },
     "execution_count": 31,
     "metadata": {},
     "output_type": "execute_result"
    }
   ],
   "source": [
    "x[\"key1\"]"
   ]
  },
  {
   "cell_type": "code",
   "execution_count": 32,
   "id": "03208247",
   "metadata": {},
   "outputs": [
    {
     "name": "stdout",
     "output_type": "stream",
     "text": [
      "Messi\n"
     ]
    }
   ],
   "source": [
    "x[\"key1\"] = 'Messi'\n",
    "print(x['key1'])"
   ]
  },
  {
   "cell_type": "code",
   "execution_count": 33,
   "id": "c265eece",
   "metadata": {},
   "outputs": [
    {
     "data": {
      "text/plain": [
       "{'key1': 'Messi', 'key2': 'value2'}"
      ]
     },
     "execution_count": 33,
     "metadata": {},
     "output_type": "execute_result"
    }
   ],
   "source": [
    "x"
   ]
  },
  {
   "cell_type": "code",
   "execution_count": 34,
   "id": "91bd9e44",
   "metadata": {},
   "outputs": [],
   "source": [
    "x['world_cup'] = 2022"
   ]
  },
  {
   "cell_type": "code",
   "execution_count": 35,
   "id": "abe0a37f",
   "metadata": {},
   "outputs": [
    {
     "data": {
      "text/plain": [
       "{'key1': 'Messi', 'key2': 'value2', 'world_cup': 2022}"
      ]
     },
     "execution_count": 35,
     "metadata": {},
     "output_type": "execute_result"
    }
   ],
   "source": [
    "x"
   ]
  },
  {
   "cell_type": "code",
   "execution_count": 36,
   "id": "20ff7dae",
   "metadata": {},
   "outputs": [
    {
     "name": "stdout",
     "output_type": "stream",
     "text": [
      "{'key1': 'Messi', 'key2': 'value2', 'world_cup': 2022}\n"
     ]
    }
   ],
   "source": [
    "print(x)\n",
    "del x['key2']"
   ]
  },
  {
   "cell_type": "code",
   "execution_count": 37,
   "id": "7a275cbc",
   "metadata": {},
   "outputs": [
    {
     "name": "stdout",
     "output_type": "stream",
     "text": [
      "{'key1': 'Messi', 'world_cup': 2022}\n"
     ]
    }
   ],
   "source": [
    "print(x)"
   ]
  },
  {
   "cell_type": "code",
   "execution_count": 39,
   "id": "c700b82c",
   "metadata": {},
   "outputs": [],
   "source": [
    "a = 100\n",
    "b = 200\n",
    "\n",
    "if a > b:\n",
    "    print('hello')"
   ]
  },
  {
   "cell_type": "code",
   "execution_count": 42,
   "id": "06748cf2",
   "metadata": {},
   "outputs": [
    {
     "name": "stdout",
     "output_type": "stream",
     "text": [
      "booo\n"
     ]
    }
   ],
   "source": [
    "a = 100\n",
    "b = 50\n",
    "\n",
    "if b > a:\n",
    "    print('b greater than a')\n",
    "elif a == b:\n",
    "    print('they are the same')\n",
    "else:\n",
    "    print('booo')"
   ]
  },
  {
   "cell_type": "code",
   "execution_count": 45,
   "id": "df4debab",
   "metadata": {},
   "outputs": [
    {
     "name": "stdout",
     "output_type": "stream",
     "text": [
      "heyho\n"
     ]
    }
   ],
   "source": [
    "a = 10\n",
    "b = 5\n",
    "c = 100\n",
    "\n",
    "if a > b and c > a:\n",
    "    print('heyho')"
   ]
  },
  {
   "cell_type": "code",
   "execution_count": 46,
   "id": "7388ced1",
   "metadata": {},
   "outputs": [
    {
     "name": "stdout",
     "output_type": "stream",
     "text": [
      "one of these is true\n"
     ]
    }
   ],
   "source": [
    "if a > b or a > c:\n",
    "    print('one of these is true')"
   ]
  },
  {
   "cell_type": "code",
   "execution_count": 47,
   "id": "49577785",
   "metadata": {},
   "outputs": [
    {
     "name": "stdout",
     "output_type": "stream",
     "text": [
      "greater than 5\n",
      "not greater than 10000\n"
     ]
    }
   ],
   "source": [
    "x = 100\n",
    "\n",
    "if x > 5:\n",
    "    print('greater than 5')\n",
    "    if x > 10000:\n",
    "        print('greater than 10000')\n",
    "    else:\n",
    "        print('not greater than 10000')"
   ]
  },
  {
   "cell_type": "code",
   "execution_count": 49,
   "id": "70dc0816",
   "metadata": {},
   "outputs": [],
   "source": [
    "x = 10\n",
    "\n",
    "if x > 50000:\n",
    "    print('h')\n",
    "elif x > 5:\n",
    "    pass #ignore\n",
    "else:\n",
    "    print('hello')"
   ]
  },
  {
   "cell_type": "code",
   "execution_count": 50,
   "id": "0e183105",
   "metadata": {},
   "outputs": [],
   "source": [
    "players = ['Pogba', 'Beckham', 'Neymar', 'Van Persie']"
   ]
  },
  {
   "cell_type": "code",
   "execution_count": 51,
   "id": "f37764a0",
   "metadata": {},
   "outputs": [
    {
     "name": "stdout",
     "output_type": "stream",
     "text": [
      "Pogba\n",
      "Beckham\n",
      "Neymar\n",
      "Van Persie\n"
     ]
    }
   ],
   "source": [
    "for player in players:\n",
    "    print(player)"
   ]
  },
  {
   "cell_type": "code",
   "execution_count": 52,
   "id": "010293af",
   "metadata": {},
   "outputs": [
    {
     "name": "stdout",
     "output_type": "stream",
     "text": [
      "0\n",
      "1\n",
      "2\n",
      "3\n",
      "4\n"
     ]
    }
   ],
   "source": [
    "for x in range(5):\n",
    "    print(x)"
   ]
  },
  {
   "cell_type": "code",
   "execution_count": 53,
   "id": "fb773509",
   "metadata": {},
   "outputs": [
    {
     "name": "stdout",
     "output_type": "stream",
     "text": [
      "Pogba apples\n",
      "Pogba bananas\n",
      "Pogba pineapples\n",
      "Beckham apples\n",
      "Beckham bananas\n",
      "Beckham pineapples\n",
      "Neymar apples\n",
      "Neymar bananas\n",
      "Neymar pineapples\n",
      "Van Persie apples\n",
      "Van Persie bananas\n",
      "Van Persie pineapples\n"
     ]
    }
   ],
   "source": [
    "players = ['Pogba', 'Beckham', 'Neymar', 'Van Persie']\n",
    "fruits = ['apples', 'bananas', 'pineapples']\n",
    "\n",
    "for x in players:\n",
    "    for y in fruits:\n",
    "        print(x,y)"
   ]
  },
  {
   "cell_type": "code",
   "execution_count": 54,
   "id": "f3a913eb",
   "metadata": {},
   "outputs": [
    {
     "name": "stdout",
     "output_type": "stream",
     "text": [
      "0\n",
      "1\n",
      "2\n",
      "3\n",
      "4\n",
      "5\n",
      "6\n",
      "7\n",
      "8\n",
      "9\n"
     ]
    }
   ],
   "source": [
    "i = 0\n",
    "\n",
    "while i < 10:\n",
    "    print(i)\n",
    "    i += 1"
   ]
  },
  {
   "cell_type": "code",
   "execution_count": 55,
   "id": "379e1fc6",
   "metadata": {},
   "outputs": [
    {
     "name": "stdout",
     "output_type": "stream",
     "text": [
      "0\n",
      "1\n",
      "2\n",
      "4\n",
      "5\n",
      "6\n"
     ]
    }
   ],
   "source": [
    "numbers = range(10)\n",
    "\n",
    "for x in numbers:\n",
    "    if x == 7:\n",
    "        break\n",
    "    elif x == 3:\n",
    "        continue\n",
    "    \n",
    "    print(x)"
   ]
  },
  {
   "cell_type": "code",
   "execution_count": 56,
   "id": "a42f3b94",
   "metadata": {},
   "outputs": [
    {
     "name": "stdout",
     "output_type": "stream",
     "text": [
      "hello\n",
      "Man Utd\n",
      "NC Courage\n"
     ]
    }
   ],
   "source": [
    "print('hello')\n",
    "print('Man Utd')\n",
    "print('NC Courage')"
   ]
  },
  {
   "cell_type": "code",
   "execution_count": 57,
   "id": "02f98835",
   "metadata": {},
   "outputs": [],
   "source": [
    "def sample_function():\n",
    "    print('hello')\n",
    "    print('Man Utd')\n",
    "    print('NC Courage')"
   ]
  },
  {
   "cell_type": "code",
   "execution_count": 58,
   "id": "8e87e8c3",
   "metadata": {},
   "outputs": [
    {
     "name": "stdout",
     "output_type": "stream",
     "text": [
      "hello\n",
      "Man Utd\n",
      "NC Courage\n"
     ]
    }
   ],
   "source": [
    "sample_function()"
   ]
  },
  {
   "cell_type": "code",
   "execution_count": 59,
   "id": "986e2764",
   "metadata": {},
   "outputs": [],
   "source": [
    "def my_function(first_name):\n",
    "    print(f'Hello my name is: {first_name}')"
   ]
  },
  {
   "cell_type": "code",
   "execution_count": 61,
   "id": "51c6eb9c",
   "metadata": {},
   "outputs": [
    {
     "name": "stdout",
     "output_type": "stream",
     "text": [
      "Hello my name is: Kurtzy\n",
      "Hello my name is: Sully\n"
     ]
    }
   ],
   "source": [
    "my_function('Kurtzy')\n",
    "my_function('Sully')"
   ]
  },
  {
   "cell_type": "code",
   "execution_count": 62,
   "id": "770bbaf9",
   "metadata": {},
   "outputs": [
    {
     "name": "stdout",
     "output_type": "stream",
     "text": [
      "Hello my name is: Sanchez\n"
     ]
    }
   ],
   "source": [
    "my_function(first_name='Sanchez')"
   ]
  },
  {
   "cell_type": "code",
   "execution_count": 63,
   "id": "3808f251",
   "metadata": {},
   "outputs": [],
   "source": [
    "def my_function(first_name, last_name, team):\n",
    "    print(f'My name is {first_name} {last_name}')\n",
    "    print(f'I play for {team}')"
   ]
  },
  {
   "cell_type": "code",
   "execution_count": 64,
   "id": "e87c9ce2",
   "metadata": {},
   "outputs": [
    {
     "name": "stdout",
     "output_type": "stream",
     "text": [
      "My name is Paul Pogba\n",
      "I play for Man Utd\n"
     ]
    }
   ],
   "source": [
    "my_function(\"Paul\", \"Pogba\", \"Man Utd\")"
   ]
  },
  {
   "cell_type": "code",
   "execution_count": 65,
   "id": "46a11114",
   "metadata": {},
   "outputs": [],
   "source": [
    "def my_function(team=\"Man Utd\"):\n",
    "    print(team)"
   ]
  },
  {
   "cell_type": "code",
   "execution_count": 66,
   "id": "c5c0bff6",
   "metadata": {},
   "outputs": [
    {
     "name": "stdout",
     "output_type": "stream",
     "text": [
      "Man Utd\n"
     ]
    }
   ],
   "source": [
    "my_function()"
   ]
  },
  {
   "cell_type": "code",
   "execution_count": 67,
   "id": "8cf765f7",
   "metadata": {},
   "outputs": [
    {
     "name": "stdout",
     "output_type": "stream",
     "text": [
      "Nordschaelland\n"
     ]
    }
   ],
   "source": [
    "my_function('Nordschaelland')"
   ]
  },
  {
   "cell_type": "code",
   "execution_count": 68,
   "id": "87359bb7",
   "metadata": {},
   "outputs": [],
   "source": [
    "def my_function(first_name, last_name, team=\"FCN\"):\n",
    "    print(f'My name is {first_name} {last_name}')\n",
    "    print(f'I play for {team}')"
   ]
  },
  {
   "cell_type": "code",
   "execution_count": 69,
   "id": "e7475bfc",
   "metadata": {},
   "outputs": [
    {
     "name": "stdout",
     "output_type": "stream",
     "text": [
      "My name is Jurgen Klopp\n",
      "I play for FCN\n"
     ]
    }
   ],
   "source": [
    "my_function('Jurgen', 'Klopp')"
   ]
  },
  {
   "cell_type": "code",
   "execution_count": 73,
   "id": "19294b70",
   "metadata": {},
   "outputs": [],
   "source": [
    "def my_function(x):\n",
    "    x = 10 * x / 3\n",
    "    return 100 * x"
   ]
  },
  {
   "cell_type": "code",
   "execution_count": 74,
   "id": "55ab46f0",
   "metadata": {},
   "outputs": [
    {
     "data": {
      "text/plain": [
       "3333.3333333333335"
      ]
     },
     "execution_count": 74,
     "metadata": {},
     "output_type": "execute_result"
    }
   ],
   "source": [
    "my_function(10)"
   ]
  },
  {
   "cell_type": "code",
   "execution_count": 75,
   "id": "8e9204fb",
   "metadata": {},
   "outputs": [
    {
     "data": {
      "text/plain": [
       "7333.333333333333"
      ]
     },
     "execution_count": 75,
     "metadata": {},
     "output_type": "execute_result"
    }
   ],
   "source": [
    "my_function(22)"
   ]
  },
  {
   "cell_type": "code",
   "execution_count": 76,
   "id": "a24da029",
   "metadata": {},
   "outputs": [],
   "source": [
    "my_value = my_function(15)"
   ]
  },
  {
   "cell_type": "code",
   "execution_count": 77,
   "id": "a5daf10c",
   "metadata": {},
   "outputs": [
    {
     "data": {
      "text/plain": [
       "5000.0"
      ]
     },
     "execution_count": 77,
     "metadata": {},
     "output_type": "execute_result"
    }
   ],
   "source": [
    "my_value"
   ]
  },
  {
   "cell_type": "code",
   "execution_count": 79,
   "id": "75b6a4c1",
   "metadata": {},
   "outputs": [
    {
     "ename": "NameError",
     "evalue": "name 'h' is not defined",
     "output_type": "error",
     "traceback": [
      "\u001b[1;31m---------------------------------------------------------------------------\u001b[0m",
      "\u001b[1;31mNameError\u001b[0m                                 Traceback (most recent call last)",
      "Cell \u001b[1;32mIn[79], line 1\u001b[0m\n\u001b[1;32m----> 1\u001b[0m \u001b[38;5;28mprint\u001b[39m(h)\n",
      "\u001b[1;31mNameError\u001b[0m: name 'h' is not defined"
     ]
    }
   ],
   "source": [
    "print(h)"
   ]
  },
  {
   "cell_type": "code",
   "execution_count": 80,
   "id": "68bfb2cc",
   "metadata": {},
   "outputs": [
    {
     "name": "stdout",
     "output_type": "stream",
     "text": [
      "Failed\n"
     ]
    }
   ],
   "source": [
    "try:\n",
    "    print(h)\n",
    "except:\n",
    "    print('Failed')"
   ]
  },
  {
   "cell_type": "code",
   "execution_count": 81,
   "id": "0b9dbfc0",
   "metadata": {},
   "outputs": [
    {
     "ename": "Exception",
     "evalue": "h is less than 101",
     "output_type": "error",
     "traceback": [
      "\u001b[1;31m---------------------------------------------------------------------------\u001b[0m",
      "\u001b[1;31mException\u001b[0m                                 Traceback (most recent call last)",
      "Cell \u001b[1;32mIn[81], line 4\u001b[0m\n\u001b[0;32m      1\u001b[0m h \u001b[38;5;241m=\u001b[39m \u001b[38;5;241m100\u001b[39m\n\u001b[0;32m      3\u001b[0m \u001b[38;5;28;01mif\u001b[39;00m h \u001b[38;5;241m<\u001b[39m \u001b[38;5;241m101\u001b[39m:\n\u001b[1;32m----> 4\u001b[0m     \u001b[38;5;28;01mraise\u001b[39;00m \u001b[38;5;167;01mException\u001b[39;00m(\u001b[38;5;124m'\u001b[39m\u001b[38;5;124mh is less than 101\u001b[39m\u001b[38;5;124m'\u001b[39m)\n",
      "\u001b[1;31mException\u001b[0m: h is less than 101"
     ]
    }
   ],
   "source": [
    "h = 100\n",
    "\n",
    "if h < 101:\n",
    "    raise Exception('h is less than 101')"
   ]
  },
  {
   "cell_type": "code",
   "execution_count": 82,
   "id": "33b4dbb0",
   "metadata": {},
   "outputs": [
    {
     "ename": "TypeError",
     "evalue": "Not an integer",
     "output_type": "error",
     "traceback": [
      "\u001b[1;31m---------------------------------------------------------------------------\u001b[0m",
      "\u001b[1;31mTypeError\u001b[0m                                 Traceback (most recent call last)",
      "Cell \u001b[1;32mIn[82], line 4\u001b[0m\n\u001b[0;32m      1\u001b[0m h \u001b[38;5;241m=\u001b[39m \u001b[38;5;124m'\u001b[39m\u001b[38;5;124m100\u001b[39m\u001b[38;5;124m'\u001b[39m\n\u001b[0;32m      3\u001b[0m \u001b[38;5;28;01mif\u001b[39;00m \u001b[38;5;28mtype\u001b[39m(h) \u001b[38;5;129;01mis\u001b[39;00m \u001b[38;5;129;01mnot\u001b[39;00m \u001b[38;5;28mint\u001b[39m:\n\u001b[1;32m----> 4\u001b[0m     \u001b[38;5;28;01mraise\u001b[39;00m \u001b[38;5;167;01mTypeError\u001b[39;00m(\u001b[38;5;124m'\u001b[39m\u001b[38;5;124mNot an integer\u001b[39m\u001b[38;5;124m'\u001b[39m)\n",
      "\u001b[1;31mTypeError\u001b[0m: Not an integer"
     ]
    }
   ],
   "source": [
    "h = '100'\n",
    "\n",
    "if type(h) is not int:\n",
    "    raise TypeError('Not an integer')"
   ]
  },
  {
   "cell_type": "code",
   "execution_count": null,
   "id": "157041f7",
   "metadata": {},
   "outputs": [],
   "source": []
  }
 ],
 "metadata": {
  "kernelspec": {
   "display_name": "Python 3 (ipykernel)",
   "language": "python",
   "name": "python3"
  },
  "language_info": {
   "codemirror_mode": {
    "name": "ipython",
    "version": 3
   },
   "file_extension": ".py",
   "mimetype": "text/x-python",
   "name": "python",
   "nbconvert_exporter": "python",
   "pygments_lexer": "ipython3",
   "version": "3.11.5"
  }
 },
 "nbformat": 4,
 "nbformat_minor": 5
}
